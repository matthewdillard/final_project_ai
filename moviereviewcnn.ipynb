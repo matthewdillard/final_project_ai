{
 "cells": [
  {
   "cell_type": "code",
   "execution_count": 1,
   "id": "842f5ab4",
   "metadata": {
    "_cell_guid": "b1076dfc-b9ad-4769-8c92-a6c4dae69d19",
    "_uuid": "8f2839f25d086af736a60e9eeb907d3b93b6e0e5",
    "execution": {
     "iopub.execute_input": "2021-12-20T23:22:55.707578Z",
     "iopub.status.busy": "2021-12-20T23:22:55.706877Z",
     "iopub.status.idle": "2021-12-20T23:23:03.180683Z",
     "shell.execute_reply": "2021-12-20T23:23:03.179974Z",
     "shell.execute_reply.started": "2021-12-20T23:06:17.879168Z"
    },
    "jupyter": {
     "source_hidden": true
    },
    "papermill": {
     "duration": 7.498482,
     "end_time": "2021-12-20T23:23:03.180870",
     "exception": false,
     "start_time": "2021-12-20T23:22:55.682388",
     "status": "completed"
    },
    "tags": []
   },
   "outputs": [],
   "source": [
    "import tensorflow as tf\n",
    "from tensorflow.keras.preprocessing.text import Tokenizer\n",
    "import numpy as np # linear algebra\n",
    "import pandas as pd # data processing, CSV file I/O (e.g. pd.read_csv)\n",
    "from sklearn.linear_model import LinearRegression\n",
    "from tensorflow.keras.preprocessing.sequence import pad_sequences"
   ]
  },
  {
   "cell_type": "markdown",
   "id": "2a0d1b7e",
   "metadata": {
    "papermill": {
     "duration": 0.013693,
     "end_time": "2021-12-20T23:23:03.210328",
     "exception": false,
     "start_time": "2021-12-20T23:23:03.196635",
     "status": "completed"
    },
    "tags": []
   },
   "source": [
    "# Preparing our Data\n",
    "First we read in the data and separate it into two lists, one for the reviews and one for the sentiments. We go through the sentiment column and assign integer values that correspond to the positive or negative nature of the review. This will be helpful later on when determining how positive or negative a review is for our model."
   ]
  },
  {
   "cell_type": "code",
   "execution_count": 2,
   "id": "e3de34ce",
   "metadata": {
    "execution": {
     "iopub.execute_input": "2021-12-20T23:23:03.245135Z",
     "iopub.status.busy": "2021-12-20T23:23:03.244282Z",
     "iopub.status.idle": "2021-12-20T23:23:05.087280Z",
     "shell.execute_reply": "2021-12-20T23:23:05.087783Z",
     "shell.execute_reply.started": "2021-12-20T23:06:17.886337Z"
    },
    "papermill": {
     "duration": 1.864297,
     "end_time": "2021-12-20T23:23:05.087982",
     "exception": false,
     "start_time": "2021-12-20T23:23:03.223685",
     "status": "completed"
    },
    "tags": []
   },
   "outputs": [],
   "source": [
    "imdb_data = pd.read_csv('../input/imdb-dataset-of-50k-movie-reviews/IMDB Dataset.csv')\n",
    "\n",
    "\n",
    "imdb_data.loc[imdb_data['sentiment'] == 'positive',  'sentiment'] = 1\n",
    "imdb_data.loc[imdb_data['sentiment'] == 'negative',  'sentiment'] = 0\n",
    "\n",
    "imdb_data.head()\n",
    "\n",
    "reviews, sentiments = imdb_data['review'], imdb_data['sentiment']"
   ]
  },
  {
   "cell_type": "markdown",
   "id": "0cf18403",
   "metadata": {
    "papermill": {
     "duration": 0.013224,
     "end_time": "2021-12-20T23:23:05.114887",
     "exception": false,
     "start_time": "2021-12-20T23:23:05.101663",
     "status": "completed"
    },
    "tags": []
   },
   "source": [
    "Having broken up the data, we now split it into training and testing sets. We will train our model with 90% of our total data, and validate our model with the remaining 10%."
   ]
  },
  {
   "cell_type": "code",
   "execution_count": 3,
   "id": "aa356797",
   "metadata": {
    "execution": {
     "iopub.execute_input": "2021-12-20T23:23:05.145159Z",
     "iopub.status.busy": "2021-12-20T23:23:05.144512Z",
     "iopub.status.idle": "2021-12-20T23:23:05.156236Z",
     "shell.execute_reply": "2021-12-20T23:23:05.155688Z",
     "shell.execute_reply.started": "2021-12-20T23:06:18.602743Z"
    },
    "papermill": {
     "duration": 0.027976,
     "end_time": "2021-12-20T23:23:05.156382",
     "exception": false,
     "start_time": "2021-12-20T23:23:05.128406",
     "status": "completed"
    },
    "tags": []
   },
   "outputs": [],
   "source": [
    "train_reviews = np.array(reviews[0:45000])\n",
    "train_sentiments = np.array(sentiments[0:45000]).astype(np.int)\n",
    "\n",
    "test_reviews = np.array(reviews[45000:50000])\n",
    "test_sentiments = np.array(sentiments[45000:50000]).astype(np.int)"
   ]
  },
  {
   "cell_type": "markdown",
   "id": "7cc4dc5c",
   "metadata": {
    "papermill": {
     "duration": 0.013074,
     "end_time": "2021-12-20T23:23:05.182549",
     "exception": false,
     "start_time": "2021-12-20T23:23:05.169475",
     "status": "completed"
    },
    "tags": []
   },
   "source": [
    "## Tokenization\n",
    "Tokenization allows us to create vectors that correspond to each review. This process turns text into integers where each integer is the index of a token in a dictionary that contains all the vocabulary for our dataset. Punctuation is removed with this step, so our model will only be concerned with words."
   ]
  },
  {
   "cell_type": "code",
   "execution_count": 4,
   "id": "73d7a90e",
   "metadata": {
    "execution": {
     "iopub.execute_input": "2021-12-20T23:23:05.212427Z",
     "iopub.status.busy": "2021-12-20T23:23:05.211734Z",
     "iopub.status.idle": "2021-12-20T23:23:24.470376Z",
     "shell.execute_reply": "2021-12-20T23:23:24.470919Z",
     "shell.execute_reply.started": "2021-12-20T23:06:18.629179Z"
    },
    "papermill": {
     "duration": 19.275293,
     "end_time": "2021-12-20T23:23:24.471128",
     "exception": false,
     "start_time": "2021-12-20T23:23:05.195835",
     "status": "completed"
    },
    "tags": []
   },
   "outputs": [],
   "source": [
    "input_size, output_size, max_length = 1500, 128, 120\n",
    "\n",
    "tokenizer = Tokenizer(num_words = input_size)\n",
    "tokenizer.fit_on_texts(train_reviews)\n",
    "word_index = tokenizer.word_index\n",
    "\n",
    "training_sequences = tokenizer.texts_to_sequences(train_reviews)\n",
    "testing_sequences = tokenizer.texts_to_sequences(test_reviews)"
   ]
  },
  {
   "cell_type": "markdown",
   "id": "90c4b96d",
   "metadata": {
    "papermill": {
     "duration": 0.013003,
     "end_time": "2021-12-20T23:23:24.497462",
     "exception": false,
     "start_time": "2021-12-20T23:23:24.484459",
     "status": "completed"
    },
    "tags": []
   },
   "source": [
    "## Padding\n",
    "We pad out input sequences here. This step in crucial in that it normalizes all of our varying input reviews to all have consistent length. Review sequences that are longer than our max length are truncated, and those which are shorter are filled with zeroes until they reach our desired length."
   ]
  },
  {
   "cell_type": "code",
   "execution_count": 5,
   "id": "d65d6740",
   "metadata": {
    "execution": {
     "iopub.execute_input": "2021-12-20T23:23:24.532314Z",
     "iopub.status.busy": "2021-12-20T23:23:24.531624Z",
     "iopub.status.idle": "2021-12-20T23:23:25.979101Z",
     "shell.execute_reply": "2021-12-20T23:23:25.978447Z",
     "shell.execute_reply.started": "2021-12-20T23:06:38.903775Z"
    },
    "papermill": {
     "duration": 1.468803,
     "end_time": "2021-12-20T23:23:25.979250",
     "exception": false,
     "start_time": "2021-12-20T23:23:24.510447",
     "status": "completed"
    },
    "tags": []
   },
   "outputs": [],
   "source": [
    "training_padded = pad_sequences(training_sequences, maxlen = max_length, truncating = 'post')\n",
    "testing_padded = pad_sequences(testing_sequences, maxlen = max_length)"
   ]
  },
  {
   "cell_type": "markdown",
   "id": "16d435c4",
   "metadata": {
    "papermill": {
     "duration": 0.013198,
     "end_time": "2021-12-20T23:23:26.005974",
     "exception": false,
     "start_time": "2021-12-20T23:23:25.992776",
     "status": "completed"
    },
    "tags": []
   },
   "source": [
    "# Building the Model\n",
    "Now that our preparation is complete, we can begin the actually build our model. We landed on the Sequential model which Keras provides a template for. The main part of our model is a series of Dense and Dropout layers, which utilize the ReLU activation function which was determined to be the best option for our model. The Dropout functions are useful and allow our model to avoid overfitting, and improve our validation accuracy in relation to the testing accuracy.\n",
    "\n",
    "1. Tanh: 0.9693 accuracy, 0.8234 validation accuracy\n",
    "1. RELU: 0.9351 accuracy, 0.8206 validation accuracy\n",
    "1. Sigmoid: 0.9691 accuracy, 0.8122 validation accuracy"
   ]
  },
  {
   "cell_type": "code",
   "execution_count": 6,
   "id": "0adaaa59",
   "metadata": {
    "execution": {
     "iopub.execute_input": "2021-12-20T23:23:26.040905Z",
     "iopub.status.busy": "2021-12-20T23:23:26.040136Z",
     "iopub.status.idle": "2021-12-20T23:23:26.512713Z",
     "shell.execute_reply": "2021-12-20T23:23:26.512153Z",
     "shell.execute_reply.started": "2021-12-20T23:17:25.481807Z"
    },
    "papermill": {
     "duration": 0.493148,
     "end_time": "2021-12-20T23:23:26.512852",
     "exception": false,
     "start_time": "2021-12-20T23:23:26.019704",
     "status": "completed"
    },
    "tags": []
   },
   "outputs": [
    {
     "name": "stderr",
     "output_type": "stream",
     "text": [
      "\n",
      "User settings:\n",
      "\n",
      "   KMP_AFFINITY=granularity=fine,verbose,compact,1,0\n",
      "   KMP_BLOCKTIME=0\n",
      "   KMP_DUPLICATE_LIB_OK=True\n",
      "   KMP_INIT_AT_FORK=FALSE\n",
      "   KMP_SETTINGS=1\n",
      "   KMP_WARNINGS=0\n",
      "\n",
      "Effective settings:\n",
      "\n",
      "   KMP_ABORT_DELAY=0\n",
      "   KMP_ADAPTIVE_LOCK_PROPS='1,1024'\n",
      "   KMP_ALIGN_ALLOC=64\n",
      "   KMP_ALL_THREADPRIVATE=128\n",
      "   KMP_ATOMIC_MODE=2\n",
      "   KMP_BLOCKTIME=0\n",
      "   KMP_CPUINFO_FILE: value is not defined\n",
      "   KMP_DETERMINISTIC_REDUCTION=false\n",
      "   KMP_DEVICE_THREAD_LIMIT=2147483647\n",
      "   KMP_DISP_NUM_BUFFERS=7\n",
      "   KMP_DUPLICATE_LIB_OK=true\n",
      "   KMP_ENABLE_TASK_THROTTLING=true\n",
      "   KMP_FORCE_REDUCTION: value is not defined\n",
      "   KMP_FOREIGN_THREADS_THREADPRIVATE=true\n",
      "   KMP_FORKJOIN_BARRIER='2,2'\n",
      "   KMP_FORKJOIN_BARRIER_PATTERN='hyper,hyper'\n",
      "   KMP_GTID_MODE=3\n",
      "   KMP_HANDLE_SIGNALS=false\n",
      "   KMP_HOT_TEAMS_MAX_LEVEL=1\n",
      "   KMP_HOT_TEAMS_MODE=0\n",
      "   KMP_INIT_AT_FORK=true\n",
      "   KMP_LIBRARY=throughput\n",
      "   KMP_LOCK_KIND=queuing\n",
      "   KMP_MALLOC_POOL_INCR=1M\n",
      "   KMP_NUM_LOCKS_IN_BLOCK=1\n",
      "   KMP_PLAIN_BARRIER='2,2'\n",
      "   KMP_PLAIN_BARRIER_PATTERN='hyper,hyper'\n",
      "   KMP_REDUCTION_BARRIER='1,1'\n",
      "   KMP_REDUCTION_BARRIER_PATTERN='hyper,hyper'\n",
      "   KMP_SCHEDULE='static,balanced;guided,iterative'\n",
      "   KMP_SETTINGS=true\n",
      "   KMP_SPIN_BACKOFF_PARAMS='4096,100'\n",
      "   KMP_STACKOFFSET=64\n",
      "   KMP_STACKPAD=0\n",
      "   KMP_STACKSIZE=8M\n",
      "   KMP_STORAGE_MAP=false\n",
      "   KMP_TASKING=2\n",
      "   KMP_TASKLOOP_MIN_TASKS=0\n",
      "   KMP_TASK_STEALING_CONSTRAINT=1\n",
      "   KMP_TEAMS_THREAD_LIMIT=4\n",
      "   KMP_TOPOLOGY_METHOD=all\n",
      "   KMP_USE_YIELD=1\n",
      "   KMP_VERSION=false\n",
      "   KMP_WARNINGS=false\n",
      "   OMP_AFFINITY_FORMAT='OMP: pid %P tid %i thread %n bound to OS proc set {%A}'\n",
      "   OMP_ALLOCATOR=omp_default_mem_alloc\n",
      "   OMP_CANCELLATION=false\n",
      "   OMP_DEFAULT_DEVICE=0\n",
      "   OMP_DISPLAY_AFFINITY=false\n",
      "   OMP_DISPLAY_ENV=false\n",
      "   OMP_DYNAMIC=false\n",
      "   OMP_MAX_ACTIVE_LEVELS=1\n",
      "   OMP_MAX_TASK_PRIORITY=0\n",
      "   OMP_NESTED: deprecated; max-active-levels-var=1\n",
      "   OMP_NUM_THREADS: value is not defined\n",
      "   OMP_PLACES: value is not defined\n",
      "   OMP_PROC_BIND='intel'\n",
      "   OMP_SCHEDULE='static'\n",
      "   OMP_STACKSIZE=8M\n",
      "   OMP_TARGET_OFFLOAD=DEFAULT\n",
      "   OMP_THREAD_LIMIT=2147483647\n",
      "   OMP_WAIT_POLICY=PASSIVE\n",
      "   KMP_AFFINITY='verbose,warnings,respect,granularity=fine,compact,1,0'\n",
      "\n",
      "2021-12-20 23:23:26.089737: I tensorflow/core/common_runtime/process_util.cc:146] Creating new thread pool with default inter op setting: 2. Tune using inter_op_parallelism_threads for best performance.\n"
     ]
    }
   ],
   "source": [
    "model = tf.keras.Sequential([\n",
    "\ttf.keras.layers.Embedding(input_size, output_size, input_length = max_length),\n",
    "\ttf.keras.layers.Flatten(),\n",
    "])\n",
    "\n",
    "in_size = 128\n",
    "\n",
    "while in_size > 7:\n",
    "    model.add(tf.keras.layers.Dense(in_size, activation='tanh'))\n",
    "    model.add(tf.keras.layers.Dropout(0.1))\n",
    "    in_size = in_size / 2\n",
    "    \n",
    "model.add(tf.keras.layers.Dense(1, activation='relu'))"
   ]
  },
  {
   "cell_type": "markdown",
   "id": "6c4299e2",
   "metadata": {
    "papermill": {
     "duration": 0.013508,
     "end_time": "2021-12-20T23:23:26.540300",
     "exception": false,
     "start_time": "2021-12-20T23:23:26.526792",
     "status": "completed"
    },
    "tags": []
   },
   "source": [
    "We tested a number of different optimizers to determine which was the best option for our model. Here are the resulting accuracies and validation accuracies for each.\n",
    "1. RMSprop: 0.8777 accuracy, 0.7856 validation accuracy\n",
    "2. Adam: 0.7500 accuracy, 0.7578 validation accuracy\n",
    "3. SGD: 0.5005 accuracy, 0.4940 validation accuracy\n",
    "4. FTRL: 0.4993 accuracy, 0.5060 validation accuracy\n",
    "\n",
    "We chose to go with RMSprop, as it provided us with the best accuracy, and subsequent validation accuracy."
   ]
  },
  {
   "cell_type": "markdown",
   "id": "11d7ca27",
   "metadata": {
    "papermill": {
     "duration": 0.013357,
     "end_time": "2021-12-20T23:23:26.567520",
     "exception": false,
     "start_time": "2021-12-20T23:23:26.554163",
     "status": "completed"
    },
    "tags": []
   },
   "source": [
    "As for the loss function, we tested Binary Cross Entropy, Hinge, MSLE, Huber, and Poisson functions to see which would pair best with the RMSprop optimizer. \n",
    "1. BCE: 0.8989 accuracy, 0.7898 validation accuracy\n",
    "1. Hinge: 0.8911 accuracy, 0.7836 validation accuracy\n",
    "1. Poisson: 0.9641 accuracy, 0.7558 validation accuracy\n",
    "1. Huber: 0.9679 accuracy, 0.7820 validation accuracy\n",
    "1. MSLE: 0.4993 accuracy, 0.5060 validation accuracy\n",
    "\n",
    "In the end, with determined that the combination of RMSprop and Binary Cross Entropy was the best option."
   ]
  },
  {
   "cell_type": "code",
   "execution_count": 7,
   "id": "6e4538e6",
   "metadata": {
    "execution": {
     "iopub.execute_input": "2021-12-20T23:23:26.602609Z",
     "iopub.status.busy": "2021-12-20T23:23:26.601652Z",
     "iopub.status.idle": "2021-12-20T23:23:26.619166Z",
     "shell.execute_reply": "2021-12-20T23:23:26.618522Z",
     "shell.execute_reply.started": "2021-12-20T23:17:29.335094Z"
    },
    "papermill": {
     "duration": 0.037874,
     "end_time": "2021-12-20T23:23:26.619315",
     "exception": false,
     "start_time": "2021-12-20T23:23:26.581441",
     "status": "completed"
    },
    "tags": []
   },
   "outputs": [
    {
     "name": "stdout",
     "output_type": "stream",
     "text": [
      "Model: \"sequential\"\n",
      "_________________________________________________________________\n",
      "Layer (type)                 Output Shape              Param #   \n",
      "=================================================================\n",
      "embedding (Embedding)        (None, 120, 128)          192000    \n",
      "_________________________________________________________________\n",
      "flatten (Flatten)            (None, 15360)             0         \n",
      "_________________________________________________________________\n",
      "dense (Dense)                (None, 128)               1966208   \n",
      "_________________________________________________________________\n",
      "dropout (Dropout)            (None, 128)               0         \n",
      "_________________________________________________________________\n",
      "dense_1 (Dense)              (None, 64)                8256      \n",
      "_________________________________________________________________\n",
      "dropout_1 (Dropout)          (None, 64)                0         \n",
      "_________________________________________________________________\n",
      "dense_2 (Dense)              (None, 32)                2080      \n",
      "_________________________________________________________________\n",
      "dropout_2 (Dropout)          (None, 32)                0         \n",
      "_________________________________________________________________\n",
      "dense_3 (Dense)              (None, 16)                528       \n",
      "_________________________________________________________________\n",
      "dropout_3 (Dropout)          (None, 16)                0         \n",
      "_________________________________________________________________\n",
      "dense_4 (Dense)              (None, 8)                 136       \n",
      "_________________________________________________________________\n",
      "dropout_4 (Dropout)          (None, 8)                 0         \n",
      "_________________________________________________________________\n",
      "dense_5 (Dense)              (None, 1)                 9         \n",
      "=================================================================\n",
      "Total params: 2,169,217\n",
      "Trainable params: 2,169,217\n",
      "Non-trainable params: 0\n",
      "_________________________________________________________________\n"
     ]
    }
   ],
   "source": [
    "model.compile(loss='binary_crossentropy', optimizer='RMSprop', metrics=['accuracy'])\n",
    "model.summary()"
   ]
  },
  {
   "cell_type": "markdown",
   "id": "0c2888c5",
   "metadata": {
    "papermill": {
     "duration": 0.013957,
     "end_time": "2021-12-20T23:23:26.647337",
     "exception": false,
     "start_time": "2021-12-20T23:23:26.633380",
     "status": "completed"
    },
    "tags": []
   },
   "source": [
    "# Running the Model"
   ]
  },
  {
   "cell_type": "code",
   "execution_count": 8,
   "id": "79f59c8b",
   "metadata": {
    "execution": {
     "iopub.execute_input": "2021-12-20T23:23:26.681220Z",
     "iopub.status.busy": "2021-12-20T23:23:26.680261Z",
     "iopub.status.idle": "2021-12-20T23:26:51.018316Z",
     "shell.execute_reply": "2021-12-20T23:26:51.018837Z",
     "shell.execute_reply.started": "2021-12-20T23:17:31.724645Z"
    },
    "papermill": {
     "duration": 204.357545,
     "end_time": "2021-12-20T23:26:51.019022",
     "exception": false,
     "start_time": "2021-12-20T23:23:26.661477",
     "status": "completed"
    },
    "tags": []
   },
   "outputs": [
    {
     "name": "stderr",
     "output_type": "stream",
     "text": [
      "2021-12-20 23:23:26.781196: I tensorflow/compiler/mlir/mlir_graph_optimization_pass.cc:185] None of the MLIR Optimization Passes are enabled (registered 2)\n"
     ]
    },
    {
     "name": "stdout",
     "output_type": "stream",
     "text": [
      "Epoch 1/8\n",
      "1407/1407 [==============================] - 24s 16ms/step - loss: 0.8878 - accuracy: 0.7213 - val_loss: 0.4358 - val_accuracy: 0.8416\n",
      "Epoch 2/8\n",
      "1407/1407 [==============================] - 23s 17ms/step - loss: 0.5114 - accuracy: 0.8430 - val_loss: 0.8196 - val_accuracy: 0.8368\n",
      "Epoch 3/8\n",
      "1407/1407 [==============================] - 23s 16ms/step - loss: 0.4431 - accuracy: 0.8956 - val_loss: 0.4657 - val_accuracy: 0.8322\n",
      "Epoch 4/8\n",
      "1407/1407 [==============================] - 23s 16ms/step - loss: 0.4122 - accuracy: 0.9378 - val_loss: 1.9357 - val_accuracy: 0.8216\n",
      "Epoch 5/8\n",
      "1407/1407 [==============================] - 22s 16ms/step - loss: 0.4062 - accuracy: 0.9572 - val_loss: 2.1786 - val_accuracy: 0.8178\n",
      "Epoch 6/8\n",
      "1407/1407 [==============================] - 23s 16ms/step - loss: 0.4271 - accuracy: 0.9597 - val_loss: 2.0250 - val_accuracy: 0.8084\n",
      "Epoch 7/8\n",
      "1407/1407 [==============================] - 23s 16ms/step - loss: 0.3923 - accuracy: 0.9610 - val_loss: 2.4094 - val_accuracy: 0.8118\n",
      "Epoch 8/8\n",
      "1407/1407 [==============================] - 22s 16ms/step - loss: 0.4005 - accuracy: 0.9622 - val_loss: 2.0257 - val_accuracy: 0.8076\n"
     ]
    },
    {
     "data": {
      "text/plain": [
       "<keras.callbacks.History at 0x7f0f403a3b10>"
      ]
     },
     "execution_count": 8,
     "metadata": {},
     "output_type": "execute_result"
    }
   ],
   "source": [
    "num_epochs = 8\n",
    "model.fit(training_padded, train_sentiments, epochs = num_epochs, validation_data = (testing_padded, test_sentiments))"
   ]
  },
  {
   "cell_type": "code",
   "execution_count": 9,
   "id": "53b703cb",
   "metadata": {
    "execution": {
     "iopub.execute_input": "2021-12-20T23:26:52.834797Z",
     "iopub.status.busy": "2021-12-20T23:26:52.832840Z",
     "iopub.status.idle": "2021-12-20T23:26:53.535808Z",
     "shell.execute_reply": "2021-12-20T23:26:53.535150Z",
     "shell.execute_reply.started": "2021-12-20T23:06:40.531779Z"
    },
    "papermill": {
     "duration": 1.610321,
     "end_time": "2021-12-20T23:26:53.535986",
     "exception": false,
     "start_time": "2021-12-20T23:26:51.925665",
     "status": "completed"
    },
    "tags": []
   },
   "outputs": [
    {
     "name": "stdout",
     "output_type": "stream",
     "text": [
      "157/157 [==============================] - 1s 4ms/step - loss: 2.0257 - accuracy: 0.8076\n"
     ]
    }
   ],
   "source": [
    "test_loss, test_acurracy = model.evaluate(testing_padded, test_sentiments)"
   ]
  },
  {
   "cell_type": "code",
   "execution_count": 10,
   "id": "86977bfd",
   "metadata": {
    "execution": {
     "iopub.execute_input": "2021-12-20T23:26:55.353438Z",
     "iopub.status.busy": "2021-12-20T23:26:55.352783Z",
     "iopub.status.idle": "2021-12-20T23:26:55.357755Z",
     "shell.execute_reply": "2021-12-20T23:26:55.358357Z",
     "shell.execute_reply.started": "2021-12-20T23:06:40.533298Z"
    },
    "papermill": {
     "duration": 0.911688,
     "end_time": "2021-12-20T23:26:55.358525",
     "exception": false,
     "start_time": "2021-12-20T23:26:54.446837",
     "status": "completed"
    },
    "tags": []
   },
   "outputs": [
    {
     "data": {
      "text/plain": [
       "0.8076000213623047"
      ]
     },
     "execution_count": 10,
     "metadata": {},
     "output_type": "execute_result"
    }
   ],
   "source": [
    "test_acurracy"
   ]
  }
 ],
 "metadata": {
  "kernelspec": {
   "display_name": "Python 3",
   "language": "python",
   "name": "python3"
  },
  "language_info": {
   "codemirror_mode": {
    "name": "ipython",
    "version": 3
   },
   "file_extension": ".py",
   "mimetype": "text/x-python",
   "name": "python",
   "nbconvert_exporter": "python",
   "pygments_lexer": "ipython3",
   "version": "3.7.12"
  },
  "papermill": {
   "default_parameters": {},
   "duration": 253.977581,
   "end_time": "2021-12-20T23:26:59.333799",
   "environment_variables": {},
   "exception": null,
   "input_path": "__notebook__.ipynb",
   "output_path": "__notebook__.ipynb",
   "parameters": {},
   "start_time": "2021-12-20T23:22:45.356218",
   "version": "2.3.3"
  }
 },
 "nbformat": 4,
 "nbformat_minor": 5
}
