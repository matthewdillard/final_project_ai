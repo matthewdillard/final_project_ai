{
 "cells": [
  {
   "cell_type": "code",
   "execution_count": 1,
   "id": "2fc3b5d3",
   "metadata": {
    "_cell_guid": "b1076dfc-b9ad-4769-8c92-a6c4dae69d19",
    "_uuid": "8f2839f25d086af736a60e9eeb907d3b93b6e0e5",
    "execution": {
     "iopub.execute_input": "2021-12-20T00:31:20.170765Z",
     "iopub.status.busy": "2021-12-20T00:31:20.169890Z",
     "iopub.status.idle": "2021-12-20T00:31:26.686977Z",
     "shell.execute_reply": "2021-12-20T00:31:26.686273Z",
     "shell.execute_reply.started": "2021-12-19T23:10:34.522928Z"
    },
    "papermill": {
     "duration": 6.535579,
     "end_time": "2021-12-20T00:31:26.687135",
     "exception": false,
     "start_time": "2021-12-20T00:31:20.151556",
     "status": "completed"
    },
    "tags": []
   },
   "outputs": [],
   "source": [
    "# This Python 3 environment comes with many helpful analytics libraries installed\n",
    "# It is defined by the kaggle/python Docker image: https://github.com/kaggle/docker-python\n",
    "# For example, here's several helpful packages to load\n",
    "\n",
    "import tensorflow as tf\n",
    "from tensorflow.keras.preprocessing.text import Tokenizer\n",
    "import numpy as np # linear algebra\n",
    "import pandas as pd # data processing, CSV file I/O (e.g. pd.read_csv)\n",
    "from sklearn.linear_model import LinearRegression\n",
    "from tensorflow.keras.preprocessing.sequence import pad_sequences"
   ]
  },
  {
   "cell_type": "code",
   "execution_count": 2,
   "id": "6cbe345f",
   "metadata": {
    "execution": {
     "iopub.execute_input": "2021-12-20T00:31:26.705878Z",
     "iopub.status.busy": "2021-12-20T00:31:26.705287Z",
     "iopub.status.idle": "2021-12-20T00:31:28.353597Z",
     "shell.execute_reply": "2021-12-20T00:31:28.354043Z",
     "shell.execute_reply.started": "2021-12-19T23:10:34.530157Z"
    },
    "papermill": {
     "duration": 1.660886,
     "end_time": "2021-12-20T00:31:28.354218",
     "exception": false,
     "start_time": "2021-12-20T00:31:26.693332",
     "status": "completed"
    },
    "tags": []
   },
   "outputs": [],
   "source": [
    "imdb_data = pd.read_csv('../input/imdb-dataset/imdbdataset.csv')\n",
    "\n",
    "imdb_data.loc[imdb_data['sentiment'] == 'positive',  'sentiment'] = 1\n",
    "imdb_data.loc[imdb_data['sentiment'] == 'negative',  'sentiment'] = 0\n",
    "\n",
    "imdb_data.head()\n",
    "\n",
    "reviews, sentiments = imdb_data['review'], imdb_data['sentiment']\n",
    "\n",
    "# train_x, test_x, train_y, test_y = train_test_split(\n",
    "#     x, y, test_size=0.05, random_state=0)\n",
    "\n",
    "train_reviews = np.array(reviews[0:30000])\n",
    "train_sentiments = np.array(sentiments[0:30000]).astype(np.int)\n",
    "test_reviews = np.array(reviews[30000:40000])\n",
    "test_sentiments = np.array(sentiments[30000:40000]).astype(np.int)\n",
    "dev_reviews = np.array(reviews[40000:50000])\n",
    "dev_sentiments = np.array(sentiments[40000:50000]).astype(np.int)"
   ]
  },
  {
   "cell_type": "code",
   "execution_count": 3,
   "id": "6bcaef8f",
   "metadata": {
    "execution": {
     "iopub.execute_input": "2021-12-20T00:31:28.370041Z",
     "iopub.status.busy": "2021-12-20T00:31:28.369180Z",
     "iopub.status.idle": "2021-12-20T00:31:28.372063Z",
     "shell.execute_reply": "2021-12-20T00:31:28.371546Z",
     "shell.execute_reply.started": "2021-12-19T23:10:35.210042Z"
    },
    "papermill": {
     "duration": 0.01237,
     "end_time": "2021-12-20T00:31:28.372197",
     "exception": false,
     "start_time": "2021-12-20T00:31:28.359827",
     "status": "completed"
    },
    "tags": []
   },
   "outputs": [],
   "source": [
    "# Parameters\n",
    "vocab_size = 10000\n",
    "embedding_dim = 16\n",
    "max_length = 120\n",
    "trunc_type = 'post'\n",
    "token = \"<OOV>\""
   ]
  },
  {
   "cell_type": "code",
   "execution_count": 4,
   "id": "7c6e1f60",
   "metadata": {
    "execution": {
     "iopub.execute_input": "2021-12-20T00:31:28.401561Z",
     "iopub.status.busy": "2021-12-20T00:31:28.396090Z",
     "iopub.status.idle": "2021-12-20T00:31:39.831703Z",
     "shell.execute_reply": "2021-12-20T00:31:39.831142Z",
     "shell.execute_reply.started": "2021-12-19T23:10:35.218403Z"
    },
    "papermill": {
     "duration": 11.453934,
     "end_time": "2021-12-20T00:31:39.831854",
     "exception": false,
     "start_time": "2021-12-20T00:31:28.377920",
     "status": "completed"
    },
    "tags": []
   },
   "outputs": [],
   "source": [
    "tokenizer = Tokenizer(num_words = vocab_size, oov_token = token)\n",
    "tokenizer.fit_on_texts(train_reviews)\n",
    "word_index = tokenizer.word_index\n",
    "sequences = tokenizer.texts_to_sequences(train_reviews)\n",
    "padded = pad_sequences(sequences, maxlen=max_length, truncating=trunc_type)\n",
    "\n",
    "testing_sequences = tokenizer.texts_to_sequences(test_reviews)\n",
    "testing_padded = pad_sequences(testing_sequences, maxlen=max_length)"
   ]
  },
  {
   "cell_type": "code",
   "execution_count": 5,
   "id": "f67a5f88",
   "metadata": {
    "execution": {
     "iopub.execute_input": "2021-12-20T00:31:39.850255Z",
     "iopub.status.busy": "2021-12-20T00:31:39.849630Z",
     "iopub.status.idle": "2021-12-20T00:31:40.031018Z",
     "shell.execute_reply": "2021-12-20T00:31:40.030572Z",
     "shell.execute_reply.started": "2021-12-19T23:31:34.121639Z"
    },
    "papermill": {
     "duration": 0.19267,
     "end_time": "2021-12-20T00:31:40.031152",
     "exception": false,
     "start_time": "2021-12-20T00:31:39.838482",
     "status": "completed"
    },
    "tags": []
   },
   "outputs": [
    {
     "name": "stderr",
     "output_type": "stream",
     "text": [
      "\n",
      "User settings:\n",
      "\n",
      "   KMP_AFFINITY=granularity=fine,verbose,compact,1,0\n",
      "   KMP_BLOCKTIME=0\n",
      "   KMP_DUPLICATE_LIB_OK=True\n",
      "   KMP_INIT_AT_FORK=FALSE\n",
      "   KMP_SETTINGS=1\n",
      "   KMP_WARNINGS=0\n",
      "\n",
      "Effective settings:\n",
      "\n",
      "   KMP_ABORT_DELAY=0\n",
      "   KMP_ADAPTIVE_LOCK_PROPS='1,1024'\n",
      "   KMP_ALIGN_ALLOC=64\n",
      "   KMP_ALL_THREADPRIVATE=128\n",
      "   KMP_ATOMIC_MODE=2\n",
      "   KMP_BLOCKTIME=0\n",
      "   KMP_CPUINFO_FILE: value is not defined\n",
      "   KMP_DETERMINISTIC_REDUCTION=false\n",
      "   KMP_DEVICE_THREAD_LIMIT=2147483647\n",
      "   KMP_DISP_NUM_BUFFERS=7\n",
      "   KMP_DUPLICATE_LIB_OK=true\n",
      "   KMP_ENABLE_TASK_THROTTLING=true\n",
      "   KMP_FORCE_REDUCTION: value is not defined\n",
      "   KMP_FOREIGN_THREADS_THREADPRIVATE=true\n",
      "   KMP_FORKJOIN_BARRIER='2,2'\n",
      "   KMP_FORKJOIN_BARRIER_PATTERN='hyper,hyper'\n",
      "   KMP_GTID_MODE=3\n",
      "   KMP_HANDLE_SIGNALS=false\n",
      "   KMP_HOT_TEAMS_MAX_LEVEL=1\n",
      "   KMP_HOT_TEAMS_MODE=0\n",
      "   KMP_INIT_AT_FORK=true\n",
      "   KMP_LIBRARY=throughput\n",
      "   KMP_LOCK_KIND=queuing\n",
      "   KMP_MALLOC_POOL_INCR=1M\n",
      "   KMP_NUM_LOCKS_IN_BLOCK=1\n",
      "   KMP_PLAIN_BARRIER='2,2'\n",
      "   KMP_PLAIN_BARRIER_PATTERN='hyper,hyper'\n",
      "   KMP_REDUCTION_BARRIER='1,1'\n",
      "   KMP_REDUCTION_BARRIER_PATTERN='hyper,hyper'\n",
      "   KMP_SCHEDULE='static,balanced;guided,iterative'\n",
      "   KMP_SETTINGS=true\n",
      "   KMP_SPIN_BACKOFF_PARAMS='4096,100'\n",
      "   KMP_STACKOFFSET=64\n",
      "   KMP_STACKPAD=0\n",
      "   KMP_STACKSIZE=8M\n",
      "   KMP_STORAGE_MAP=false\n",
      "   KMP_TASKING=2\n",
      "   KMP_TASKLOOP_MIN_TASKS=0\n",
      "   KMP_TASK_STEALING_CONSTRAINT=1\n",
      "   KMP_TEAMS_THREAD_LIMIT=4\n",
      "   KMP_TOPOLOGY_METHOD=all\n",
      "   KMP_USE_YIELD=1\n",
      "   KMP_VERSION=false\n",
      "   KMP_WARNINGS=false\n",
      "   OMP_AFFINITY_FORMAT='OMP: pid %P tid %i thread %n bound to OS proc set {%A}'\n",
      "   OMP_ALLOCATOR=omp_default_mem_alloc\n",
      "   OMP_CANCELLATION=false\n",
      "   OMP_DEFAULT_DEVICE=0\n",
      "   OMP_DISPLAY_AFFINITY=false\n",
      "   OMP_DISPLAY_ENV=false\n",
      "   OMP_DYNAMIC=false\n",
      "   OMP_MAX_ACTIVE_LEVELS=1\n",
      "   OMP_MAX_TASK_PRIORITY=0\n",
      "   OMP_NESTED: deprecated; max-active-levels-var=1\n",
      "   OMP_NUM_THREADS: value is not defined\n",
      "   OMP_PLACES: value is not defined\n",
      "   OMP_PROC_BIND='intel'\n",
      "   OMP_SCHEDULE='static'\n",
      "   OMP_STACKSIZE=8M\n",
      "   OMP_TARGET_OFFLOAD=DEFAULT\n",
      "   OMP_THREAD_LIMIT=2147483647\n",
      "   OMP_WAIT_POLICY=PASSIVE\n",
      "   KMP_AFFINITY='verbose,warnings,respect,granularity=fine,compact,1,0'\n",
      "\n",
      "2021-12-20 00:31:39.899428: I tensorflow/core/common_runtime/process_util.cc:146] Creating new thread pool with default inter op setting: 2. Tune using inter_op_parallelism_threads for best performance.\n"
     ]
    }
   ],
   "source": [
    "model = tf.keras.Sequential([\n",
    "\ttf.keras.layers.Embedding(vocab_size, embedding_dim, input_length=max_length),\n",
    "\ttf.keras.layers.Flatten(),\n",
    "])\n",
    "\n",
    "in_size = 128\n",
    "\n",
    "while in_size > 7:\n",
    "    model.add(tf.keras.layers.Dense(in_size, activation='relu'))\n",
    "    model.add(tf.keras.layers.Dropout(0.1))\n",
    "    in_size = in_size / 2\n",
    "    \n",
    "model.add(tf.keras.layers.Dense(1, activation='relu'))"
   ]
  },
  {
   "cell_type": "code",
   "execution_count": 6,
   "id": "0e38f81d",
   "metadata": {
    "execution": {
     "iopub.execute_input": "2021-12-20T00:31:40.051830Z",
     "iopub.status.busy": "2021-12-20T00:31:40.045824Z",
     "iopub.status.idle": "2021-12-20T00:31:40.064517Z",
     "shell.execute_reply": "2021-12-20T00:31:40.065043Z",
     "shell.execute_reply.started": "2021-12-19T23:32:36.434399Z"
    },
    "papermill": {
     "duration": 0.027583,
     "end_time": "2021-12-20T00:31:40.065212",
     "exception": false,
     "start_time": "2021-12-20T00:31:40.037629",
     "status": "completed"
    },
    "tags": []
   },
   "outputs": [
    {
     "name": "stdout",
     "output_type": "stream",
     "text": [
      "Model: \"sequential\"\n",
      "_________________________________________________________________\n",
      "Layer (type)                 Output Shape              Param #   \n",
      "=================================================================\n",
      "embedding (Embedding)        (None, 120, 16)           160000    \n",
      "_________________________________________________________________\n",
      "flatten (Flatten)            (None, 1920)              0         \n",
      "_________________________________________________________________\n",
      "dense (Dense)                (None, 128)               245888    \n",
      "_________________________________________________________________\n",
      "dropout (Dropout)            (None, 128)               0         \n",
      "_________________________________________________________________\n",
      "dense_1 (Dense)              (None, 64)                8256      \n",
      "_________________________________________________________________\n",
      "dropout_1 (Dropout)          (None, 64)                0         \n",
      "_________________________________________________________________\n",
      "dense_2 (Dense)              (None, 32)                2080      \n",
      "_________________________________________________________________\n",
      "dropout_2 (Dropout)          (None, 32)                0         \n",
      "_________________________________________________________________\n",
      "dense_3 (Dense)              (None, 16)                528       \n",
      "_________________________________________________________________\n",
      "dropout_3 (Dropout)          (None, 16)                0         \n",
      "_________________________________________________________________\n",
      "dense_4 (Dense)              (None, 8)                 136       \n",
      "_________________________________________________________________\n",
      "dropout_4 (Dropout)          (None, 8)                 0         \n",
      "_________________________________________________________________\n",
      "dense_5 (Dense)              (None, 1)                 9         \n",
      "=================================================================\n",
      "Total params: 416,897\n",
      "Trainable params: 416,897\n",
      "Non-trainable params: 0\n",
      "_________________________________________________________________\n"
     ]
    }
   ],
   "source": [
    "model.compile(loss='binary_crossentropy', optimizer='adam', metrics=['accuracy'])\n",
    "model.summary()"
   ]
  },
  {
   "cell_type": "code",
   "execution_count": 7,
   "id": "5f9a50d5",
   "metadata": {
    "execution": {
     "iopub.execute_input": "2021-12-20T00:31:40.083617Z",
     "iopub.status.busy": "2021-12-20T00:31:40.082917Z",
     "iopub.status.idle": "2021-12-20T00:33:03.622493Z",
     "shell.execute_reply": "2021-12-20T00:33:03.622973Z",
     "shell.execute_reply.started": "2021-12-19T23:32:41.283196Z"
    },
    "papermill": {
     "duration": 83.551135,
     "end_time": "2021-12-20T00:33:03.623153",
     "exception": false,
     "start_time": "2021-12-20T00:31:40.072018",
     "status": "completed"
    },
    "tags": []
   },
   "outputs": [
    {
     "name": "stderr",
     "output_type": "stream",
     "text": [
      "2021-12-20 00:31:40.427959: I tensorflow/compiler/mlir/mlir_graph_optimization_pass.cc:185] None of the MLIR Optimization Passes are enabled (registered 2)\n"
     ]
    },
    {
     "name": "stdout",
     "output_type": "stream",
     "text": [
      "Epoch 1/10\n",
      "938/938 [==============================] - 7s 6ms/step - loss: 0.6859 - accuracy: 0.6535 - val_loss: 0.4407 - val_accuracy: 0.8177\n",
      "Epoch 2/10\n",
      "938/938 [==============================] - 5s 5ms/step - loss: 0.4959 - accuracy: 0.8331 - val_loss: 0.4608 - val_accuracy: 0.8088\n",
      "Epoch 3/10\n",
      "938/938 [==============================] - 5s 5ms/step - loss: 0.4257 - accuracy: 0.8511 - val_loss: 0.6323 - val_accuracy: 0.8091\n",
      "Epoch 4/10\n",
      "938/938 [==============================] - 5s 5ms/step - loss: 0.4018 - accuracy: 0.8955 - val_loss: 1.3548 - val_accuracy: 0.8165\n",
      "Epoch 5/10\n",
      "938/938 [==============================] - 5s 5ms/step - loss: 0.3036 - accuracy: 0.9475 - val_loss: 1.8289 - val_accuracy: 0.8101\n",
      "Epoch 6/10\n",
      "938/938 [==============================] - 6s 6ms/step - loss: 0.2652 - accuracy: 0.9606 - val_loss: 1.2463 - val_accuracy: 0.8017\n",
      "Epoch 7/10\n",
      "938/938 [==============================] - 5s 5ms/step - loss: 0.2334 - accuracy: 0.9628 - val_loss: 1.6471 - val_accuracy: 0.8087\n",
      "Epoch 8/10\n",
      "938/938 [==============================] - 5s 5ms/step - loss: 0.1880 - accuracy: 0.9764 - val_loss: 2.1339 - val_accuracy: 0.8046\n",
      "Epoch 9/10\n",
      "938/938 [==============================] - 5s 5ms/step - loss: 0.1876 - accuracy: 0.9756 - val_loss: 1.8184 - val_accuracy: 0.7922\n",
      "Epoch 10/10\n",
      "938/938 [==============================] - 5s 5ms/step - loss: 0.1656 - accuracy: 0.9793 - val_loss: 2.1158 - val_accuracy: 0.8093\n"
     ]
    },
    {
     "data": {
      "text/plain": [
       "<keras.callbacks.History at 0x7f3850036910>"
      ]
     },
     "execution_count": 7,
     "metadata": {},
     "output_type": "execute_result"
    }
   ],
   "source": [
    "num_epochs = 10\n",
    "model.fit(padded,\n",
    "          train_sentiments,\n",
    "          epochs = num_epochs,\n",
    "          validation_data = (testing_padded, test_sentiments))"
   ]
  }
 ],
 "metadata": {
  "kernelspec": {
   "display_name": "Python 3",
   "language": "python",
   "name": "python3"
  },
  "language_info": {
   "codemirror_mode": {
    "name": "ipython",
    "version": 3
   },
   "file_extension": ".py",
   "mimetype": "text/x-python",
   "name": "python",
   "nbconvert_exporter": "python",
   "pygments_lexer": "ipython3",
   "version": "3.7.12"
  },
  "papermill": {
   "default_parameters": {},
   "duration": 114.575613,
   "end_time": "2021-12-20T00:33:06.456643",
   "environment_variables": {},
   "exception": null,
   "input_path": "__notebook__.ipynb",
   "output_path": "__notebook__.ipynb",
   "parameters": {},
   "start_time": "2021-12-20T00:31:11.881030",
   "version": "2.3.3"
  }
 },
 "nbformat": 4,
 "nbformat_minor": 5
}
