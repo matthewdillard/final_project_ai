{
 "cells": [
  {
   "cell_type": "code",
   "execution_count": 1,
   "id": "b611a142",
   "metadata": {
    "_cell_guid": "b1076dfc-b9ad-4769-8c92-a6c4dae69d19",
    "_uuid": "8f2839f25d086af736a60e9eeb907d3b93b6e0e5",
    "execution": {
     "iopub.execute_input": "2021-12-20T23:33:40.731504Z",
     "iopub.status.busy": "2021-12-20T23:33:40.730849Z",
     "iopub.status.idle": "2021-12-20T23:33:47.590083Z",
     "shell.execute_reply": "2021-12-20T23:33:47.589365Z",
     "shell.execute_reply.started": "2021-12-20T23:06:17.879168Z"
    },
    "jupyter": {
     "source_hidden": true
    },
    "papermill": {
     "duration": 6.889846,
     "end_time": "2021-12-20T23:33:47.590278",
     "exception": false,
     "start_time": "2021-12-20T23:33:40.700432",
     "status": "completed"
    },
    "tags": []
   },
   "outputs": [],
   "source": [
    "import tensorflow as tf\n",
    "from tensorflow.keras.preprocessing.text import Tokenizer\n",
    "import numpy as np # linear algebra\n",
    "import pandas as pd # data processing, CSV file I/O (e.g. pd.read_csv)\n",
    "from sklearn.linear_model import LinearRegression\n",
    "from tensorflow.keras.preprocessing.sequence import pad_sequences"
   ]
  },
  {
   "cell_type": "markdown",
   "id": "5597dee3",
   "metadata": {
    "papermill": {
     "duration": 0.013317,
     "end_time": "2021-12-20T23:33:47.617700",
     "exception": false,
     "start_time": "2021-12-20T23:33:47.604383",
     "status": "completed"
    },
    "tags": []
   },
   "source": [
    "# Preparing our Data\n",
    "First we read in the data and separate it into two lists, one for the reviews and one for the sentiments. We go through the sentiment column and assign integer values that correspond to the positive or negative nature of the review. This will be helpful later on when determining how positive or negative a review is for our model."
   ]
  },
  {
   "cell_type": "code",
   "execution_count": 2,
   "id": "cb7dca26",
   "metadata": {
    "execution": {
     "iopub.execute_input": "2021-12-20T23:33:47.648771Z",
     "iopub.status.busy": "2021-12-20T23:33:47.648071Z",
     "iopub.status.idle": "2021-12-20T23:33:49.192207Z",
     "shell.execute_reply": "2021-12-20T23:33:49.191160Z",
     "shell.execute_reply.started": "2021-12-20T23:06:17.886337Z"
    },
    "papermill": {
     "duration": 1.560679,
     "end_time": "2021-12-20T23:33:49.192384",
     "exception": false,
     "start_time": "2021-12-20T23:33:47.631705",
     "status": "completed"
    },
    "tags": []
   },
   "outputs": [],
   "source": [
    "imdb_data = pd.read_csv('../input/imdb-dataset-of-50k-movie-reviews/IMDB Dataset.csv')\n",
    "\n",
    "\n",
    "imdb_data.loc[imdb_data['sentiment'] == 'positive',  'sentiment'] = 1\n",
    "imdb_data.loc[imdb_data['sentiment'] == 'negative',  'sentiment'] = 0\n",
    "\n",
    "imdb_data.head()\n",
    "\n",
    "reviews, sentiments = imdb_data['review'], imdb_data['sentiment']"
   ]
  },
  {
   "cell_type": "markdown",
   "id": "166751f3",
   "metadata": {
    "papermill": {
     "duration": 0.01361,
     "end_time": "2021-12-20T23:33:49.220030",
     "exception": false,
     "start_time": "2021-12-20T23:33:49.206420",
     "status": "completed"
    },
    "tags": []
   },
   "source": [
    "Having broken up the data, we now split it into training and testing sets. We will train our model with 90% of our total data, and validate our model with the remaining 10%."
   ]
  },
  {
   "cell_type": "code",
   "execution_count": 3,
   "id": "c1911f6f",
   "metadata": {
    "execution": {
     "iopub.execute_input": "2021-12-20T23:33:49.260173Z",
     "iopub.status.busy": "2021-12-20T23:33:49.255949Z",
     "iopub.status.idle": "2021-12-20T23:33:49.262215Z",
     "shell.execute_reply": "2021-12-20T23:33:49.262780Z",
     "shell.execute_reply.started": "2021-12-20T23:06:18.602743Z"
    },
    "papermill": {
     "duration": 0.028597,
     "end_time": "2021-12-20T23:33:49.262969",
     "exception": false,
     "start_time": "2021-12-20T23:33:49.234372",
     "status": "completed"
    },
    "tags": []
   },
   "outputs": [],
   "source": [
    "train_reviews = np.array(reviews[0:45000])\n",
    "train_sentiments = np.array(sentiments[0:45000]).astype(np.int)\n",
    "\n",
    "test_reviews = np.array(reviews[45000:50000])\n",
    "test_sentiments = np.array(sentiments[45000:50000]).astype(np.int)"
   ]
  },
  {
   "cell_type": "markdown",
   "id": "68d84999",
   "metadata": {
    "papermill": {
     "duration": 0.013449,
     "end_time": "2021-12-20T23:33:49.290664",
     "exception": false,
     "start_time": "2021-12-20T23:33:49.277215",
     "status": "completed"
    },
    "tags": []
   },
   "source": [
    "## Tokenization\n",
    "Tokenization allows us to create vectors that correspond to each review. This process turns text into integers where each integer is the index of a token in a dictionary that contains all the vocabulary for our dataset. Punctuation is removed with this step, so our model will only be concerned with words."
   ]
  },
  {
   "cell_type": "code",
   "execution_count": 4,
   "id": "cb7816e7",
   "metadata": {
    "execution": {
     "iopub.execute_input": "2021-12-20T23:33:49.398584Z",
     "iopub.status.busy": "2021-12-20T23:33:49.362535Z",
     "iopub.status.idle": "2021-12-20T23:34:08.248870Z",
     "shell.execute_reply": "2021-12-20T23:34:08.248256Z",
     "shell.execute_reply.started": "2021-12-20T23:06:18.629179Z"
    },
    "papermill": {
     "duration": 18.944619,
     "end_time": "2021-12-20T23:34:08.249030",
     "exception": false,
     "start_time": "2021-12-20T23:33:49.304411",
     "status": "completed"
    },
    "tags": []
   },
   "outputs": [],
   "source": [
    "input_size, output_size, max_length = 1500, 128, 120\n",
    "\n",
    "tokenizer = Tokenizer(num_words = input_size)\n",
    "tokenizer.fit_on_texts(train_reviews)\n",
    "word_index = tokenizer.word_index\n",
    "\n",
    "training_sequences = tokenizer.texts_to_sequences(train_reviews)\n",
    "testing_sequences = tokenizer.texts_to_sequences(test_reviews)"
   ]
  },
  {
   "cell_type": "markdown",
   "id": "16fd8df3",
   "metadata": {
    "papermill": {
     "duration": 0.01319,
     "end_time": "2021-12-20T23:34:08.275960",
     "exception": false,
     "start_time": "2021-12-20T23:34:08.262770",
     "status": "completed"
    },
    "tags": []
   },
   "source": [
    "## Padding\n",
    "We pad out input sequences here. This step in crucial in that it normalizes all of our varying input reviews to all have consistent length. Review sequences that are longer than our max length are truncated, and those which are shorter are filled with zeroes until they reach our desired length."
   ]
  },
  {
   "cell_type": "code",
   "execution_count": 5,
   "id": "28063c0e",
   "metadata": {
    "execution": {
     "iopub.execute_input": "2021-12-20T23:34:08.306695Z",
     "iopub.status.busy": "2021-12-20T23:34:08.305655Z",
     "iopub.status.idle": "2021-12-20T23:34:09.548078Z",
     "shell.execute_reply": "2021-12-20T23:34:09.547458Z",
     "shell.execute_reply.started": "2021-12-20T23:06:38.903775Z"
    },
    "papermill": {
     "duration": 1.258864,
     "end_time": "2021-12-20T23:34:09.548243",
     "exception": false,
     "start_time": "2021-12-20T23:34:08.289379",
     "status": "completed"
    },
    "tags": []
   },
   "outputs": [],
   "source": [
    "training_padded = pad_sequences(training_sequences, maxlen = max_length, truncating = 'post')\n",
    "testing_padded = pad_sequences(testing_sequences, maxlen = max_length)"
   ]
  },
  {
   "cell_type": "markdown",
   "id": "8e34e361",
   "metadata": {
    "papermill": {
     "duration": 0.013569,
     "end_time": "2021-12-20T23:34:09.576318",
     "exception": false,
     "start_time": "2021-12-20T23:34:09.562749",
     "status": "completed"
    },
    "tags": []
   },
   "source": [
    "# Building the Model\n",
    "Now that our preparation is complete, we can begin the actually build our model. We landed on the Sequential model which Keras provides a template for. The main part of our model is a series of Dense and Dropout layers, which utilize the ReLU activation function which was determined to be the best option for our model. The Dropout functions are useful and allow our model to avoid overfitting, and improve our validation accuracy in relation to the testing accuracy.\n",
    "\n",
    "1. Tanh: 0.9693 accuracy, 0.8234 validation accuracy\n",
    "1. RELU: 0.9351 accuracy, 0.8206 validation accuracy\n",
    "1. Sigmoid: 0.9691 accuracy, 0.8122 validation accuracy"
   ]
  },
  {
   "cell_type": "code",
   "execution_count": 6,
   "id": "5ee43e30",
   "metadata": {
    "execution": {
     "iopub.execute_input": "2021-12-20T23:34:09.612045Z",
     "iopub.status.busy": "2021-12-20T23:34:09.611319Z",
     "iopub.status.idle": "2021-12-20T23:34:10.095820Z",
     "shell.execute_reply": "2021-12-20T23:34:10.095062Z",
     "shell.execute_reply.started": "2021-12-20T23:17:25.481807Z"
    },
    "papermill": {
     "duration": 0.505815,
     "end_time": "2021-12-20T23:34:10.095979",
     "exception": false,
     "start_time": "2021-12-20T23:34:09.590164",
     "status": "completed"
    },
    "tags": []
   },
   "outputs": [
    {
     "name": "stderr",
     "output_type": "stream",
     "text": [
      "\n",
      "User settings:\n",
      "\n",
      "   KMP_AFFINITY=granularity=fine,verbose,compact,1,0\n",
      "   KMP_BLOCKTIME=0\n",
      "   KMP_DUPLICATE_LIB_OK=True\n",
      "   KMP_INIT_AT_FORK=FALSE\n",
      "   KMP_SETTINGS=1\n",
      "   KMP_WARNINGS=0\n",
      "\n",
      "Effective settings:\n",
      "\n",
      "   KMP_ABORT_DELAY=0\n",
      "   KMP_ADAPTIVE_LOCK_PROPS='1,1024'\n",
      "   KMP_ALIGN_ALLOC=64\n",
      "   KMP_ALL_THREADPRIVATE=128\n",
      "   KMP_ATOMIC_MODE=2\n",
      "   KMP_BLOCKTIME=0\n",
      "   KMP_CPUINFO_FILE: value is not defined\n",
      "   KMP_DETERMINISTIC_REDUCTION=false\n",
      "   KMP_DEVICE_THREAD_LIMIT=2147483647\n",
      "   KMP_DISP_NUM_BUFFERS=7\n",
      "   KMP_DUPLICATE_LIB_OK=true\n",
      "   KMP_ENABLE_TASK_THROTTLING=true\n",
      "   KMP_FORCE_REDUCTION: value is not defined\n",
      "   KMP_FOREIGN_THREADS_THREADPRIVATE=true\n",
      "   KMP_FORKJOIN_BARRIER='2,2'\n",
      "   KMP_FORKJOIN_BARRIER_PATTERN='hyper,hyper'\n",
      "   KMP_GTID_MODE=3\n",
      "   KMP_HANDLE_SIGNALS=false\n",
      "   KMP_HOT_TEAMS_MAX_LEVEL=1\n",
      "   KMP_HOT_TEAMS_MODE=0\n",
      "   KMP_INIT_AT_FORK=true\n",
      "   KMP_LIBRARY=throughput\n",
      "   KMP_LOCK_KIND=queuing\n",
      "   KMP_MALLOC_POOL_INCR=1M\n",
      "   KMP_NUM_LOCKS_IN_BLOCK=1\n",
      "   KMP_PLAIN_BARRIER='2,2'\n",
      "   KMP_PLAIN_BARRIER_PATTERN='hyper,hyper'\n",
      "   KMP_REDUCTION_BARRIER='1,1'\n",
      "   KMP_REDUCTION_BARRIER_PATTERN='hyper,hyper'\n",
      "   KMP_SCHEDULE='static,balanced;guided,iterative'\n",
      "   KMP_SETTINGS=true\n",
      "   KMP_SPIN_BACKOFF_PARAMS='4096,100'\n",
      "   KMP_STACKOFFSET=64\n",
      "   KMP_STACKPAD=0\n",
      "   KMP_STACKSIZE=8M\n",
      "   KMP_STORAGE_MAP=false\n",
      "   KMP_TASKING=2\n",
      "   KMP_TASKLOOP_MIN_TASKS=0\n",
      "   KMP_TASK_STEALING_CONSTRAINT=1\n",
      "   KMP_TEAMS_THREAD_LIMIT=4\n",
      "   KMP_TOPOLOGY_METHOD=all\n",
      "   KMP_USE_YIELD=1\n",
      "   KMP_VERSION=false\n",
      "   KMP_WARNINGS=false\n",
      "   OMP_AFFINITY_FORMAT='OMP: pid %P tid %i thread %n bound to OS proc set {%A}'\n",
      "   OMP_ALLOCATOR=omp_default_mem_alloc\n",
      "   OMP_CANCELLATION=false\n",
      "   OMP_DEFAULT_DEVICE=0\n",
      "   OMP_DISPLAY_AFFINITY=false\n",
      "   OMP_DISPLAY_ENV=false\n",
      "   OMP_DYNAMIC=false\n",
      "   OMP_MAX_ACTIVE_LEVELS=1\n",
      "   OMP_MAX_TASK_PRIORITY=0\n",
      "   OMP_NESTED: deprecated; max-active-levels-var=1\n",
      "   OMP_NUM_THREADS: value is not defined\n",
      "   OMP_PLACES: value is not defined\n",
      "   OMP_PROC_BIND='intel'\n",
      "   OMP_SCHEDULE='static'\n",
      "   OMP_STACKSIZE=8M\n",
      "   OMP_TARGET_OFFLOAD=DEFAULT\n",
      "   OMP_THREAD_LIMIT=2147483647\n",
      "   OMP_WAIT_POLICY=PASSIVE\n",
      "   KMP_AFFINITY='verbose,warnings,respect,granularity=fine,compact,1,0'\n",
      "\n",
      "2021-12-20 23:34:09.660400: I tensorflow/core/common_runtime/process_util.cc:146] Creating new thread pool with default inter op setting: 2. Tune using inter_op_parallelism_threads for best performance.\n"
     ]
    }
   ],
   "source": [
    "model = tf.keras.Sequential([\n",
    "\ttf.keras.layers.Embedding(input_size, output_size, input_length = max_length),\n",
    "\ttf.keras.layers.Flatten(),\n",
    "])\n",
    "\n",
    "in_size = 128\n",
    "\n",
    "while in_size > 7:\n",
    "    model.add(tf.keras.layers.Dense(in_size, activation='tanh'))\n",
    "    model.add(tf.keras.layers.Dropout(0.1))\n",
    "    in_size = in_size / 2\n",
    "    \n",
    "model.add(tf.keras.layers.Dense(1, activation='relu'))"
   ]
  },
  {
   "cell_type": "markdown",
   "id": "11f73b0f",
   "metadata": {
    "papermill": {
     "duration": 0.014102,
     "end_time": "2021-12-20T23:34:10.125471",
     "exception": false,
     "start_time": "2021-12-20T23:34:10.111369",
     "status": "completed"
    },
    "tags": []
   },
   "source": [
    "We tested a number of different optimizers to determine which was the best option for our model. Here are the resulting accuracies and validation accuracies for each.\n",
    "1. RMSprop: 0.8777 accuracy, 0.7856 validation accuracy\n",
    "2. Adam: 0.7500 accuracy, 0.7578 validation accuracy\n",
    "3. SGD: 0.5005 accuracy, 0.4940 validation accuracy\n",
    "4. FTRL: 0.4993 accuracy, 0.5060 validation accuracy\n",
    "\n",
    "We chose to go with RMSprop, as it provided us with the best accuracy, and subsequent validation accuracy."
   ]
  },
  {
   "cell_type": "markdown",
   "id": "853e5ce1",
   "metadata": {
    "papermill": {
     "duration": 0.014031,
     "end_time": "2021-12-20T23:34:10.153909",
     "exception": false,
     "start_time": "2021-12-20T23:34:10.139878",
     "status": "completed"
    },
    "tags": []
   },
   "source": [
    "As for the loss function, we tested Binary Cross Entropy, Hinge, MSLE, Huber, and Poisson functions to see which would pair best with the RMSprop optimizer. \n",
    "1. BCE: 0.8989 accuracy, 0.7898 validation accuracy\n",
    "1. Hinge: 0.8911 accuracy, 0.7836 validation accuracy\n",
    "1. Poisson: 0.9641 accuracy, 0.7558 validation accuracy\n",
    "1. Huber: 0.9679 accuracy, 0.7820 validation accuracy\n",
    "1. MSLE: 0.4993 accuracy, 0.5060 validation accuracy\n",
    "\n",
    "In the end, with determined that the combination of RMSprop and Binary Cross Entropy was the best option."
   ]
  },
  {
   "cell_type": "code",
   "execution_count": 7,
   "id": "9611c544",
   "metadata": {
    "execution": {
     "iopub.execute_input": "2021-12-20T23:34:10.186534Z",
     "iopub.status.busy": "2021-12-20T23:34:10.185478Z",
     "iopub.status.idle": "2021-12-20T23:34:10.208803Z",
     "shell.execute_reply": "2021-12-20T23:34:10.209384Z",
     "shell.execute_reply.started": "2021-12-20T23:17:29.335094Z"
    },
    "papermill": {
     "duration": 0.041413,
     "end_time": "2021-12-20T23:34:10.209568",
     "exception": false,
     "start_time": "2021-12-20T23:34:10.168155",
     "status": "completed"
    },
    "tags": []
   },
   "outputs": [
    {
     "name": "stdout",
     "output_type": "stream",
     "text": [
      "Model: \"sequential\"\n",
      "_________________________________________________________________\n",
      "Layer (type)                 Output Shape              Param #   \n",
      "=================================================================\n",
      "embedding (Embedding)        (None, 120, 128)          192000    \n",
      "_________________________________________________________________\n",
      "flatten (Flatten)            (None, 15360)             0         \n",
      "_________________________________________________________________\n",
      "dense (Dense)                (None, 128)               1966208   \n",
      "_________________________________________________________________\n",
      "dropout (Dropout)            (None, 128)               0         \n",
      "_________________________________________________________________\n",
      "dense_1 (Dense)              (None, 64)                8256      \n",
      "_________________________________________________________________\n",
      "dropout_1 (Dropout)          (None, 64)                0         \n",
      "_________________________________________________________________\n",
      "dense_2 (Dense)              (None, 32)                2080      \n",
      "_________________________________________________________________\n",
      "dropout_2 (Dropout)          (None, 32)                0         \n",
      "_________________________________________________________________\n",
      "dense_3 (Dense)              (None, 16)                528       \n",
      "_________________________________________________________________\n",
      "dropout_3 (Dropout)          (None, 16)                0         \n",
      "_________________________________________________________________\n",
      "dense_4 (Dense)              (None, 8)                 136       \n",
      "_________________________________________________________________\n",
      "dropout_4 (Dropout)          (None, 8)                 0         \n",
      "_________________________________________________________________\n",
      "dense_5 (Dense)              (None, 1)                 9         \n",
      "=================================================================\n",
      "Total params: 2,169,217\n",
      "Trainable params: 2,169,217\n",
      "Non-trainable params: 0\n",
      "_________________________________________________________________\n"
     ]
    }
   ],
   "source": [
    "model.compile(loss='binary_crossentropy', optimizer='RMSprop', metrics=['accuracy'])\n",
    "model.summary()"
   ]
  },
  {
   "cell_type": "markdown",
   "id": "05b26261",
   "metadata": {
    "papermill": {
     "duration": 0.014244,
     "end_time": "2021-12-20T23:34:10.238270",
     "exception": false,
     "start_time": "2021-12-20T23:34:10.224026",
     "status": "completed"
    },
    "tags": []
   },
   "source": [
    "# Running the Model"
   ]
  },
  {
   "cell_type": "code",
   "execution_count": 8,
   "id": "813ea790",
   "metadata": {
    "execution": {
     "iopub.execute_input": "2021-12-20T23:34:10.273014Z",
     "iopub.status.busy": "2021-12-20T23:34:10.272054Z",
     "iopub.status.idle": "2021-12-20T23:37:33.815754Z",
     "shell.execute_reply": "2021-12-20T23:37:33.816296Z",
     "shell.execute_reply.started": "2021-12-20T23:17:31.724645Z"
    },
    "papermill": {
     "duration": 203.563695,
     "end_time": "2021-12-20T23:37:33.816493",
     "exception": false,
     "start_time": "2021-12-20T23:34:10.252798",
     "status": "completed"
    },
    "tags": []
   },
   "outputs": [
    {
     "name": "stderr",
     "output_type": "stream",
     "text": [
      "2021-12-20 23:34:10.371332: I tensorflow/compiler/mlir/mlir_graph_optimization_pass.cc:185] None of the MLIR Optimization Passes are enabled (registered 2)\n"
     ]
    },
    {
     "name": "stdout",
     "output_type": "stream",
     "text": [
      "Epoch 1/8\n",
      "1407/1407 [==============================] - 26s 17ms/step - loss: 0.7611 - accuracy: 0.7326 - val_loss: 0.5471 - val_accuracy: 0.8384\n",
      "Epoch 2/8\n",
      "1407/1407 [==============================] - 25s 18ms/step - loss: 0.5097 - accuracy: 0.8417 - val_loss: 0.3590 - val_accuracy: 0.8416\n",
      "Epoch 3/8\n",
      "1407/1407 [==============================] - 25s 18ms/step - loss: 0.4301 - accuracy: 0.8971 - val_loss: 0.8749 - val_accuracy: 0.8276\n",
      "Epoch 4/8\n",
      "1407/1407 [==============================] - 24s 17ms/step - loss: 0.4098 - accuracy: 0.9383 - val_loss: 1.3516 - val_accuracy: 0.8236\n",
      "Epoch 5/8\n",
      "1407/1407 [==============================] - 23s 17ms/step - loss: 0.3813 - accuracy: 0.9552 - val_loss: 1.9031 - val_accuracy: 0.8156\n",
      "Epoch 6/8\n",
      "1407/1407 [==============================] - 24s 17ms/step - loss: 0.3596 - accuracy: 0.9630 - val_loss: 1.9532 - val_accuracy: 0.8126\n",
      "Epoch 7/8\n",
      "1407/1407 [==============================] - 24s 17ms/step - loss: 0.3458 - accuracy: 0.9670 - val_loss: 2.1218 - val_accuracy: 0.8132\n",
      "Epoch 8/8\n",
      "1407/1407 [==============================] - 24s 17ms/step - loss: 0.3323 - accuracy: 0.9678 - val_loss: 2.0256 - val_accuracy: 0.8092\n"
     ]
    },
    {
     "data": {
      "text/plain": [
       "<keras.callbacks.History at 0x7fa1ab7bf950>"
      ]
     },
     "execution_count": 8,
     "metadata": {},
     "output_type": "execute_result"
    }
   ],
   "source": [
    "num_epochs = 8\n",
    "model.fit(training_padded, train_sentiments, epochs = num_epochs, validation_data = (testing_padded, test_sentiments))"
   ]
  },
  {
   "cell_type": "markdown",
   "id": "c88be40f",
   "metadata": {
    "papermill": {
     "duration": 1.066994,
     "end_time": "2021-12-20T23:37:35.941910",
     "exception": false,
     "start_time": "2021-12-20T23:37:34.874916",
     "status": "completed"
    },
    "tags": []
   },
   "source": [
    "Our final accuracy:"
   ]
  },
  {
   "cell_type": "code",
   "execution_count": 9,
   "id": "c4100a70",
   "metadata": {
    "execution": {
     "iopub.execute_input": "2021-12-20T23:37:38.074755Z",
     "iopub.status.busy": "2021-12-20T23:37:38.073703Z",
     "iopub.status.idle": "2021-12-20T23:37:38.671636Z",
     "shell.execute_reply": "2021-12-20T23:37:38.671074Z",
     "shell.execute_reply.started": "2021-12-20T23:06:40.533298Z"
    },
    "papermill": {
     "duration": 1.6621,
     "end_time": "2021-12-20T23:37:38.671795",
     "exception": false,
     "start_time": "2021-12-20T23:37:37.009695",
     "status": "completed"
    },
    "tags": []
   },
   "outputs": [
    {
     "name": "stdout",
     "output_type": "stream",
     "text": [
      "157/157 [==============================] - 1s 3ms/step - loss: 2.0256 - accuracy: 0.8092\n"
     ]
    },
    {
     "data": {
      "text/plain": [
       "0.8091999888420105"
      ]
     },
     "execution_count": 9,
     "metadata": {},
     "output_type": "execute_result"
    }
   ],
   "source": [
    "test_loss, test_acurracy = model.evaluate(testing_padded, test_sentiments)\n",
    "test_acurracy"
   ]
  }
 ],
 "metadata": {
  "kernelspec": {
   "display_name": "Python 3",
   "language": "python",
   "name": "python3"
  },
  "language_info": {
   "codemirror_mode": {
    "name": "ipython",
    "version": 3
   },
   "file_extension": ".py",
   "mimetype": "text/x-python",
   "name": "python",
   "nbconvert_exporter": "python",
   "pygments_lexer": "ipython3",
   "version": "3.7.12"
  },
  "papermill": {
   "default_parameters": {},
   "duration": 254.139363,
   "end_time": "2021-12-20T23:37:43.278686",
   "environment_variables": {},
   "exception": null,
   "input_path": "__notebook__.ipynb",
   "output_path": "__notebook__.ipynb",
   "parameters": {},
   "start_time": "2021-12-20T23:33:29.139323",
   "version": "2.3.3"
  }
 },
 "nbformat": 4,
 "nbformat_minor": 5
}
