{
 "cells": [
  {
   "cell_type": "code",
   "execution_count": 1,
   "id": "9e84267a",
   "metadata": {
    "_cell_guid": "b1076dfc-b9ad-4769-8c92-a6c4dae69d19",
    "_uuid": "8f2839f25d086af736a60e9eeb907d3b93b6e0e5",
    "execution": {
     "iopub.execute_input": "2021-12-20T21:29:18.147920Z",
     "iopub.status.busy": "2021-12-20T21:29:18.146761Z",
     "iopub.status.idle": "2021-12-20T21:29:25.023185Z",
     "shell.execute_reply": "2021-12-20T21:29:25.022393Z",
     "shell.execute_reply.started": "2021-12-20T21:15:10.529959Z"
    },
    "jupyter": {
     "source_hidden": true
    },
    "papermill": {
     "duration": 6.896064,
     "end_time": "2021-12-20T21:29:25.023379",
     "exception": false,
     "start_time": "2021-12-20T21:29:18.127315",
     "status": "completed"
    },
    "tags": []
   },
   "outputs": [],
   "source": [
    "import tensorflow as tf\n",
    "from tensorflow.keras.preprocessing.text import Tokenizer\n",
    "import numpy as np # linear algebra\n",
    "import pandas as pd # data processing, CSV file I/O (e.g. pd.read_csv)\n",
    "from sklearn.linear_model import LinearRegression\n",
    "from tensorflow.keras.preprocessing.sequence import pad_sequences"
   ]
  },
  {
   "cell_type": "markdown",
   "id": "9c0069f6",
   "metadata": {
    "papermill": {
     "duration": 0.014799,
     "end_time": "2021-12-20T21:29:25.053958",
     "exception": false,
     "start_time": "2021-12-20T21:29:25.039159",
     "status": "completed"
    },
    "tags": []
   },
   "source": [
    "# Preparing our Data\n",
    "First we read in the data and separate it into two lists, one for the reviews and one for the sentiments. We go through the sentiment column and assign integer values that correspond to the positive or negative nature of the review. This will be helpful later on when determining how positive or negative a review is for our model."
   ]
  },
  {
   "cell_type": "code",
   "execution_count": 2,
   "id": "d7fe02e2",
   "metadata": {
    "execution": {
     "iopub.execute_input": "2021-12-20T21:29:25.091360Z",
     "iopub.status.busy": "2021-12-20T21:29:25.090699Z",
     "iopub.status.idle": "2021-12-20T21:29:26.679126Z",
     "shell.execute_reply": "2021-12-20T21:29:26.678544Z",
     "shell.execute_reply.started": "2021-12-20T21:15:10.537606Z"
    },
    "papermill": {
     "duration": 1.609979,
     "end_time": "2021-12-20T21:29:26.679302",
     "exception": false,
     "start_time": "2021-12-20T21:29:25.069323",
     "status": "completed"
    },
    "tags": []
   },
   "outputs": [],
   "source": [
    "imdb_data = pd.read_csv('../input/imdb-dataset/imdbdataset.csv')\n",
    "\n",
    "imdb_data.loc[imdb_data['sentiment'] == 'positive',  'sentiment'] = 1\n",
    "imdb_data.loc[imdb_data['sentiment'] == 'negative',  'sentiment'] = 0\n",
    "\n",
    "imdb_data.head()\n",
    "\n",
    "reviews, sentiments = imdb_data['review'], imdb_data['sentiment']"
   ]
  },
  {
   "cell_type": "markdown",
   "id": "c5b6c08b",
   "metadata": {
    "papermill": {
     "duration": 0.01477,
     "end_time": "2021-12-20T21:29:26.709023",
     "exception": false,
     "start_time": "2021-12-20T21:29:26.694253",
     "status": "completed"
    },
    "tags": []
   },
   "source": [
    "Having broken up the data, we now split it into training and testing sets. We will train our model with 90% of our total data, and validate our model with the remaining 10%."
   ]
  },
  {
   "cell_type": "code",
   "execution_count": 3,
   "id": "6602f967",
   "metadata": {
    "execution": {
     "iopub.execute_input": "2021-12-20T21:29:26.751311Z",
     "iopub.status.busy": "2021-12-20T21:29:26.750492Z",
     "iopub.status.idle": "2021-12-20T21:29:26.753503Z",
     "shell.execute_reply": "2021-12-20T21:29:26.752955Z",
     "shell.execute_reply.started": "2021-12-20T21:15:11.497031Z"
    },
    "papermill": {
     "duration": 0.029384,
     "end_time": "2021-12-20T21:29:26.753647",
     "exception": false,
     "start_time": "2021-12-20T21:29:26.724263",
     "status": "completed"
    },
    "tags": []
   },
   "outputs": [],
   "source": [
    "train_reviews = np.array(reviews[0:45000])\n",
    "train_sentiments = np.array(sentiments[0:45000]).astype(np.int)\n",
    "\n",
    "test_reviews = np.array(reviews[45000:50000])\n",
    "test_sentiments = np.array(sentiments[45000:50000]).astype(np.int)"
   ]
  },
  {
   "cell_type": "markdown",
   "id": "13c5036f",
   "metadata": {
    "papermill": {
     "duration": 0.01472,
     "end_time": "2021-12-20T21:29:26.783431",
     "exception": false,
     "start_time": "2021-12-20T21:29:26.768711",
     "status": "completed"
    },
    "tags": []
   },
   "source": [
    "## Tokenization\n",
    "Tokenization is important because..."
   ]
  },
  {
   "cell_type": "code",
   "execution_count": 4,
   "id": "a84a8667",
   "metadata": {
    "execution": {
     "iopub.execute_input": "2021-12-20T21:29:26.819053Z",
     "iopub.status.busy": "2021-12-20T21:29:26.818077Z",
     "iopub.status.idle": "2021-12-20T21:29:26.820637Z",
     "shell.execute_reply": "2021-12-20T21:29:26.819963Z",
     "shell.execute_reply.started": "2021-12-20T21:15:11.519293Z"
    },
    "papermill": {
     "duration": 0.022327,
     "end_time": "2021-12-20T21:29:26.820801",
     "exception": false,
     "start_time": "2021-12-20T21:29:26.798474",
     "status": "completed"
    },
    "tags": []
   },
   "outputs": [],
   "source": [
    "input_size = 1000\n",
    "output_size = 128\n",
    "max_length = 120\n",
    "truncation = 'post'\n",
    "token = \"<OOV>\""
   ]
  },
  {
   "cell_type": "markdown",
   "id": "b80d441e",
   "metadata": {
    "papermill": {
     "duration": 0.014568,
     "end_time": "2021-12-20T21:29:26.850598",
     "exception": false,
     "start_time": "2021-12-20T21:29:26.836030",
     "status": "completed"
    },
    "tags": []
   },
   "source": [
    "What's happening here is we are initializing our tokenizer, and create sequences that will correspond to each review. "
   ]
  },
  {
   "cell_type": "code",
   "execution_count": 5,
   "id": "fa4bfee2",
   "metadata": {
    "execution": {
     "iopub.execute_input": "2021-12-20T21:29:26.890059Z",
     "iopub.status.busy": "2021-12-20T21:29:26.889374Z",
     "iopub.status.idle": "2021-12-20T21:29:45.738505Z",
     "shell.execute_reply": "2021-12-20T21:29:45.737886Z",
     "shell.execute_reply.started": "2021-12-20T21:15:11.526812Z"
    },
    "papermill": {
     "duration": 18.873113,
     "end_time": "2021-12-20T21:29:45.738648",
     "exception": false,
     "start_time": "2021-12-20T21:29:26.865535",
     "status": "completed"
    },
    "tags": []
   },
   "outputs": [],
   "source": [
    "tokenizer = Tokenizer(num_words = input_size, oov_token = token)\n",
    "tokenizer.fit_on_texts(train_reviews)\n",
    "word_index = tokenizer.word_index\n",
    "sequences = tokenizer.texts_to_sequences(train_reviews)\n",
    "testing_sequences = tokenizer.texts_to_sequences(test_reviews)"
   ]
  },
  {
   "cell_type": "markdown",
   "id": "8dceb31d",
   "metadata": {
    "papermill": {
     "duration": 0.014922,
     "end_time": "2021-12-20T21:29:45.768756",
     "exception": false,
     "start_time": "2021-12-20T21:29:45.753834",
     "status": "completed"
    },
    "tags": []
   },
   "source": [
    "## Padding\n",
    "We pad out input sequences here. This step in crucial in that it normalizes all of our varying input reviews to all have consistent length. "
   ]
  },
  {
   "cell_type": "code",
   "execution_count": 6,
   "id": "01219ee1",
   "metadata": {
    "execution": {
     "iopub.execute_input": "2021-12-20T21:29:45.811718Z",
     "iopub.status.busy": "2021-12-20T21:29:45.807583Z",
     "iopub.status.idle": "2021-12-20T21:29:47.285419Z",
     "shell.execute_reply": "2021-12-20T21:29:47.284794Z",
     "shell.execute_reply.started": "2021-12-20T21:15:49.641521Z"
    },
    "papermill": {
     "duration": 1.501238,
     "end_time": "2021-12-20T21:29:47.285555",
     "exception": false,
     "start_time": "2021-12-20T21:29:45.784317",
     "status": "completed"
    },
    "tags": []
   },
   "outputs": [],
   "source": [
    "padded = pad_sequences(sequences, maxlen = max_length, truncating = truncation)\n",
    "testing_padded = pad_sequences(testing_sequences, maxlen = max_length)"
   ]
  },
  {
   "cell_type": "markdown",
   "id": "bdd5babc",
   "metadata": {
    "papermill": {
     "duration": 0.014725,
     "end_time": "2021-12-20T21:29:47.315431",
     "exception": false,
     "start_time": "2021-12-20T21:29:47.300706",
     "status": "completed"
    },
    "tags": []
   },
   "source": [
    "# Building the Model\n",
    "We build the Sequential model here"
   ]
  },
  {
   "cell_type": "code",
   "execution_count": 7,
   "id": "60bd3368",
   "metadata": {
    "execution": {
     "iopub.execute_input": "2021-12-20T21:29:47.353161Z",
     "iopub.status.busy": "2021-12-20T21:29:47.352465Z",
     "iopub.status.idle": "2021-12-20T21:29:47.823383Z",
     "shell.execute_reply": "2021-12-20T21:29:47.822835Z",
     "shell.execute_reply.started": "2021-12-20T21:19:24.820690Z"
    },
    "papermill": {
     "duration": 0.492903,
     "end_time": "2021-12-20T21:29:47.823537",
     "exception": false,
     "start_time": "2021-12-20T21:29:47.330634",
     "status": "completed"
    },
    "tags": []
   },
   "outputs": [
    {
     "name": "stderr",
     "output_type": "stream",
     "text": [
      "\n",
      "User settings:\n",
      "\n",
      "   KMP_AFFINITY=granularity=fine,verbose,compact,1,0\n",
      "   KMP_BLOCKTIME=0\n",
      "   KMP_DUPLICATE_LIB_OK=True\n",
      "   KMP_INIT_AT_FORK=FALSE\n",
      "   KMP_SETTINGS=1\n",
      "   KMP_WARNINGS=0\n",
      "\n",
      "Effective settings:\n",
      "\n",
      "   KMP_ABORT_DELAY=0\n",
      "   KMP_ADAPTIVE_LOCK_PROPS='1,1024'\n",
      "   KMP_ALIGN_ALLOC=64\n",
      "   KMP_ALL_THREADPRIVATE=128\n",
      "   KMP_ATOMIC_MODE=2\n",
      "   KMP_BLOCKTIME=0\n",
      "   KMP_CPUINFO_FILE: value is not defined\n",
      "   KMP_DETERMINISTIC_REDUCTION=false\n",
      "   KMP_DEVICE_THREAD_LIMIT=2147483647\n",
      "   KMP_DISP_NUM_BUFFERS=7\n",
      "   KMP_DUPLICATE_LIB_OK=true\n",
      "   KMP_ENABLE_TASK_THROTTLING=true\n",
      "   KMP_FORCE_REDUCTION: value is not defined\n",
      "   KMP_FOREIGN_THREADS_THREADPRIVATE=true\n",
      "   KMP_FORKJOIN_BARRIER='2,2'\n",
      "   KMP_FORKJOIN_BARRIER_PATTERN='hyper,hyper'\n",
      "   KMP_GTID_MODE=3\n",
      "   KMP_HANDLE_SIGNALS=false\n",
      "   KMP_HOT_TEAMS_MAX_LEVEL=1\n",
      "   KMP_HOT_TEAMS_MODE=0\n",
      "   KMP_INIT_AT_FORK=true\n",
      "   KMP_LIBRARY=throughput\n",
      "   KMP_LOCK_KIND=queuing\n",
      "   KMP_MALLOC_POOL_INCR=1M\n",
      "   KMP_NUM_LOCKS_IN_BLOCK=1\n",
      "   KMP_PLAIN_BARRIER='2,2'\n",
      "   KMP_PLAIN_BARRIER_PATTERN='hyper,hyper'\n",
      "   KMP_REDUCTION_BARRIER='1,1'\n",
      "   KMP_REDUCTION_BARRIER_PATTERN='hyper,hyper'\n",
      "   KMP_SCHEDULE='static,balanced;guided,iterative'\n",
      "   KMP_SETTINGS=true\n",
      "   KMP_SPIN_BACKOFF_PARAMS='4096,100'\n",
      "   KMP_STACKOFFSET=64\n",
      "   KMP_STACKPAD=0\n",
      "   KMP_STACKSIZE=8M\n",
      "   KMP_STORAGE_MAP=false\n",
      "   KMP_TASKING=2\n",
      "   KMP_TASKLOOP_MIN_TASKS=0\n",
      "   KMP_TASK_STEALING_CONSTRAINT=1\n",
      "   KMP_TEAMS_THREAD_LIMIT=4\n",
      "   KMP_TOPOLOGY_METHOD=all\n",
      "   KMP_USE_YIELD=1\n",
      "   KMP_VERSION=false\n",
      "   KMP_WARNINGS=false\n",
      "   OMP_AFFINITY_FORMAT='OMP: pid %P tid %i thread %n bound to OS proc set {%A}'\n",
      "   OMP_ALLOCATOR=omp_default_mem_alloc\n",
      "   OMP_CANCELLATION=false\n",
      "   OMP_DEFAULT_DEVICE=0\n",
      "   OMP_DISPLAY_AFFINITY=false\n",
      "   OMP_DISPLAY_ENV=false\n",
      "   OMP_DYNAMIC=false\n",
      "   OMP_MAX_ACTIVE_LEVELS=1\n",
      "   OMP_MAX_TASK_PRIORITY=0\n",
      "   OMP_NESTED: deprecated; max-active-levels-var=1\n",
      "   OMP_NUM_THREADS: value is not defined\n",
      "   OMP_PLACES: value is not defined\n",
      "   OMP_PROC_BIND='intel'\n",
      "   OMP_SCHEDULE='static'\n",
      "   OMP_STACKSIZE=8M\n",
      "   OMP_TARGET_OFFLOAD=DEFAULT\n",
      "   OMP_THREAD_LIMIT=2147483647\n",
      "   OMP_WAIT_POLICY=PASSIVE\n",
      "   KMP_AFFINITY='verbose,warnings,respect,granularity=fine,compact,1,0'\n",
      "\n",
      "2021-12-20 21:29:47.401371: I tensorflow/core/common_runtime/process_util.cc:146] Creating new thread pool with default inter op setting: 2. Tune using inter_op_parallelism_threads for best performance.\n"
     ]
    }
   ],
   "source": [
    "model = tf.keras.Sequential([\n",
    "\ttf.keras.layers.Embedding(input_size, output_size, input_length=max_length),\n",
    "\ttf.keras.layers.Flatten(),\n",
    "])\n",
    "\n",
    "in_size = 128\n",
    "\n",
    "while in_size > 7:\n",
    "    model.add(tf.keras.layers.Dense(in_size, activation='relu'))\n",
    "    model.add(tf.keras.layers.Dropout(0.1))\n",
    "    in_size = in_size / 2\n",
    "    \n",
    "model.add(tf.keras.layers.Dense(1, activation='relu'))"
   ]
  },
  {
   "cell_type": "markdown",
   "id": "926b6ab4",
   "metadata": {
    "papermill": {
     "duration": 0.015249,
     "end_time": "2021-12-20T21:29:47.854589",
     "exception": false,
     "start_time": "2021-12-20T21:29:47.839340",
     "status": "completed"
    },
    "tags": []
   },
   "source": [
    "The loss and optimizer functions are set here. After some testing, we "
   ]
  },
  {
   "cell_type": "code",
   "execution_count": 8,
   "id": "68a88887",
   "metadata": {
    "execution": {
     "iopub.execute_input": "2021-12-20T21:29:47.888389Z",
     "iopub.status.busy": "2021-12-20T21:29:47.887756Z",
     "iopub.status.idle": "2021-12-20T21:29:47.906310Z",
     "shell.execute_reply": "2021-12-20T21:29:47.906813Z",
     "shell.execute_reply.started": "2021-12-20T21:24:46.794276Z"
    },
    "papermill": {
     "duration": 0.036795,
     "end_time": "2021-12-20T21:29:47.906981",
     "exception": false,
     "start_time": "2021-12-20T21:29:47.870186",
     "status": "completed"
    },
    "tags": []
   },
   "outputs": [
    {
     "name": "stdout",
     "output_type": "stream",
     "text": [
      "Model: \"sequential\"\n",
      "_________________________________________________________________\n",
      "Layer (type)                 Output Shape              Param #   \n",
      "=================================================================\n",
      "embedding (Embedding)        (None, 120, 128)          128000    \n",
      "_________________________________________________________________\n",
      "flatten (Flatten)            (None, 15360)             0         \n",
      "_________________________________________________________________\n",
      "dense (Dense)                (None, 128)               1966208   \n",
      "_________________________________________________________________\n",
      "dropout (Dropout)            (None, 128)               0         \n",
      "_________________________________________________________________\n",
      "dense_1 (Dense)              (None, 64)                8256      \n",
      "_________________________________________________________________\n",
      "dropout_1 (Dropout)          (None, 64)                0         \n",
      "_________________________________________________________________\n",
      "dense_2 (Dense)              (None, 32)                2080      \n",
      "_________________________________________________________________\n",
      "dropout_2 (Dropout)          (None, 32)                0         \n",
      "_________________________________________________________________\n",
      "dense_3 (Dense)              (None, 16)                528       \n",
      "_________________________________________________________________\n",
      "dropout_3 (Dropout)          (None, 16)                0         \n",
      "_________________________________________________________________\n",
      "dense_4 (Dense)              (None, 8)                 136       \n",
      "_________________________________________________________________\n",
      "dropout_4 (Dropout)          (None, 8)                 0         \n",
      "_________________________________________________________________\n",
      "dense_5 (Dense)              (None, 1)                 9         \n",
      "=================================================================\n",
      "Total params: 2,105,217\n",
      "Trainable params: 2,105,217\n",
      "Non-trainable params: 0\n",
      "_________________________________________________________________\n"
     ]
    }
   ],
   "source": [
    "model.compile(loss='binary_crossentropy', optimizer='RMSprop', metrics=['accuracy'])\n",
    "model.summary()"
   ]
  },
  {
   "cell_type": "markdown",
   "id": "46d914c6",
   "metadata": {
    "papermill": {
     "duration": 0.015489,
     "end_time": "2021-12-20T21:29:47.939341",
     "exception": false,
     "start_time": "2021-12-20T21:29:47.923852",
     "status": "completed"
    },
    "tags": []
   },
   "source": [
    "We tested a number of optimizers for this model, including Adam, RMSprop, FTRL, and SGD. "
   ]
  },
  {
   "cell_type": "markdown",
   "id": "d10095ed",
   "metadata": {
    "papermill": {
     "duration": 0.015701,
     "end_time": "2021-12-20T21:29:47.970792",
     "exception": false,
     "start_time": "2021-12-20T21:29:47.955091",
     "status": "completed"
    },
    "tags": []
   },
   "source": [
    "# Running the Model\n",
    "We run the model here"
   ]
  },
  {
   "cell_type": "code",
   "execution_count": 9,
   "id": "9af13bf3",
   "metadata": {
    "execution": {
     "iopub.execute_input": "2021-12-20T21:29:48.005383Z",
     "iopub.status.busy": "2021-12-20T21:29:48.004737Z",
     "iopub.status.idle": "2021-12-20T21:32:43.163880Z",
     "shell.execute_reply": "2021-12-20T21:32:43.164478Z",
     "shell.execute_reply.started": "2021-12-20T21:24:48.676556Z"
    },
    "papermill": {
     "duration": 175.178098,
     "end_time": "2021-12-20T21:32:43.164675",
     "exception": false,
     "start_time": "2021-12-20T21:29:47.986577",
     "status": "completed"
    },
    "tags": []
   },
   "outputs": [
    {
     "name": "stderr",
     "output_type": "stream",
     "text": [
      "2021-12-20 21:29:48.101287: I tensorflow/compiler/mlir/mlir_graph_optimization_pass.cc:185] None of the MLIR Optimization Passes are enabled (registered 2)\n"
     ]
    },
    {
     "name": "stdout",
     "output_type": "stream",
     "text": [
      "Epoch 1/8\n",
      "1407/1407 [==============================] - 24s 16ms/step - loss: 0.7284 - accuracy: 0.7234 - val_loss: 0.5389 - val_accuracy: 0.8112\n",
      "Epoch 2/8\n",
      "1407/1407 [==============================] - 21s 15ms/step - loss: 0.9605 - accuracy: 0.7995 - val_loss: 1.3647 - val_accuracy: 0.7506\n",
      "Epoch 3/8\n",
      "1407/1407 [==============================] - 22s 16ms/step - loss: 1.1903 - accuracy: 0.8142 - val_loss: 1.7103 - val_accuracy: 0.7884\n",
      "Epoch 4/8\n",
      "1407/1407 [==============================] - 22s 16ms/step - loss: 1.2315 - accuracy: 0.8264 - val_loss: 1.3176 - val_accuracy: 0.7910\n",
      "Epoch 5/8\n",
      "1407/1407 [==============================] - 21s 15ms/step - loss: 1.2295 - accuracy: 0.8397 - val_loss: 2.2992 - val_accuracy: 0.7910\n",
      "Epoch 6/8\n",
      "1407/1407 [==============================] - 22s 15ms/step - loss: 1.4354 - accuracy: 0.8531 - val_loss: 2.2104 - val_accuracy: 0.7844\n",
      "Epoch 7/8\n",
      "1407/1407 [==============================] - 22s 15ms/step - loss: 1.4489 - accuracy: 0.8612 - val_loss: 3.0147 - val_accuracy: 0.7744\n",
      "Epoch 8/8\n",
      "1407/1407 [==============================] - 22s 15ms/step - loss: 1.4766 - accuracy: 0.8624 - val_loss: 2.0510 - val_accuracy: 0.7776\n"
     ]
    },
    {
     "data": {
      "text/plain": [
       "<keras.callbacks.History at 0x7f5eeeb34ad0>"
      ]
     },
     "execution_count": 9,
     "metadata": {},
     "output_type": "execute_result"
    }
   ],
   "source": [
    "num_epochs = 8\n",
    "model.fit(padded, train_sentiments, epochs = num_epochs, validation_data = (testing_padded, test_sentiments))"
   ]
  },
  {
   "cell_type": "markdown",
   "id": "eb8b263f",
   "metadata": {
    "papermill": {
     "duration": 0.886608,
     "end_time": "2021-12-20T21:32:44.946335",
     "exception": false,
     "start_time": "2021-12-20T21:32:44.059727",
     "status": "completed"
    },
    "tags": []
   },
   "source": [
    "We tested a number of different optimzers to determine which was the best option for our model. Here are the resulting accuracies and validation accuracies for each.\n",
    "1. RMSprop: 0.8777 accuracy, 0.7856 validation accuracy\n",
    "2. Adam: 0.7500 accuracy, 0.7578 validation accuracy\n",
    "3. SGD: 0.5005 accuracy, 0.4940 validation accuracy\n",
    "4. FTRL: 0.4993 accuracy, 0.5060 validation accuracy"
   ]
  },
  {
   "cell_type": "markdown",
   "id": "6d9b85e0",
   "metadata": {
    "papermill": {
     "duration": 0.918183,
     "end_time": "2021-12-20T21:32:46.759104",
     "exception": false,
     "start_time": "2021-12-20T21:32:45.840921",
     "status": "completed"
    },
    "tags": []
   },
   "source": [
    "# Results\n",
    "Here is what our results and findings tell us. "
   ]
  },
  {
   "cell_type": "code",
   "execution_count": 10,
   "id": "97a9cf6c",
   "metadata": {
    "execution": {
     "iopub.execute_input": "2021-12-20T21:32:48.532645Z",
     "iopub.status.busy": "2021-12-20T21:32:48.528751Z",
     "iopub.status.idle": "2021-12-20T21:32:49.108449Z",
     "shell.execute_reply": "2021-12-20T21:32:49.107648Z",
     "shell.execute_reply.started": "2021-12-20T21:24:16.248255Z"
    },
    "papermill": {
     "duration": 1.469288,
     "end_time": "2021-12-20T21:32:49.108609",
     "exception": false,
     "start_time": "2021-12-20T21:32:47.639321",
     "status": "completed"
    },
    "tags": []
   },
   "outputs": [
    {
     "name": "stdout",
     "output_type": "stream",
     "text": [
      "157/157 [==============================] - 1s 3ms/step - loss: 2.0510 - accuracy: 0.7776\n"
     ]
    }
   ],
   "source": [
    "test_acurracy = model.evaluate(testing_padded, test_sentiments)"
   ]
  },
  {
   "cell_type": "code",
   "execution_count": 11,
   "id": "e934ba45",
   "metadata": {
    "execution": {
     "iopub.execute_input": "2021-12-20T21:32:50.947814Z",
     "iopub.status.busy": "2021-12-20T21:32:50.947001Z",
     "iopub.status.idle": "2021-12-20T21:32:50.950122Z",
     "shell.execute_reply": "2021-12-20T21:32:50.950632Z",
     "shell.execute_reply.started": "2021-12-20T21:24:20.323091Z"
    },
    "papermill": {
     "duration": 0.958084,
     "end_time": "2021-12-20T21:32:50.950795",
     "exception": false,
     "start_time": "2021-12-20T21:32:49.992711",
     "status": "completed"
    },
    "tags": []
   },
   "outputs": [
    {
     "data": {
      "text/plain": [
       "[2.0509753227233887, 0.7775999903678894]"
      ]
     },
     "execution_count": 11,
     "metadata": {},
     "output_type": "execute_result"
    }
   ],
   "source": [
    "test_acurracy"
   ]
  }
 ],
 "metadata": {
  "kernelspec": {
   "display_name": "Python 3",
   "language": "python",
   "name": "python3"
  },
  "language_info": {
   "codemirror_mode": {
    "name": "ipython",
    "version": 3
   },
   "file_extension": ".py",
   "mimetype": "text/x-python",
   "name": "python",
   "nbconvert_exporter": "python",
   "pygments_lexer": "ipython3",
   "version": "3.7.12"
  },
  "papermill": {
   "default_parameters": {},
   "duration": 226.89342,
   "end_time": "2021-12-20T21:32:55.166882",
   "environment_variables": {},
   "exception": null,
   "input_path": "__notebook__.ipynb",
   "output_path": "__notebook__.ipynb",
   "parameters": {},
   "start_time": "2021-12-20T21:29:08.273462",
   "version": "2.3.3"
  }
 },
 "nbformat": 4,
 "nbformat_minor": 5
}
