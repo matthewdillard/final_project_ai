{
 "cells": [
  {
   "cell_type": "code",
   "execution_count": 1,
   "id": "c0bcefce",
   "metadata": {
    "_cell_guid": "b1076dfc-b9ad-4769-8c92-a6c4dae69d19",
    "_uuid": "8f2839f25d086af736a60e9eeb907d3b93b6e0e5",
    "execution": {
     "iopub.execute_input": "2021-12-20T18:29:11.195660Z",
     "iopub.status.busy": "2021-12-20T18:29:11.194916Z",
     "iopub.status.idle": "2021-12-20T18:29:18.467317Z",
     "shell.execute_reply": "2021-12-20T18:29:18.466477Z",
     "shell.execute_reply.started": "2021-12-20T17:16:23.012634Z"
    },
    "papermill": {
     "duration": 7.299821,
     "end_time": "2021-12-20T18:29:18.467500",
     "exception": false,
     "start_time": "2021-12-20T18:29:11.167679",
     "status": "completed"
    },
    "tags": []
   },
   "outputs": [],
   "source": [
    "# This Python 3 environment comes with many helpful analytics libraries installed\n",
    "# It is defined by the kaggle/python Docker image: https://github.com/kaggle/docker-python\n",
    "# For example, here's several helpful packages to load\n",
    "\n",
    "import tensorflow as tf\n",
    "from tensorflow.keras.preprocessing.text import Tokenizer\n",
    "import numpy as np # linear algebra\n",
    "import pandas as pd # data processing, CSV file I/O (e.g. pd.read_csv)\n",
    "from sklearn.linear_model import LinearRegression\n",
    "from tensorflow.keras.preprocessing.sequence import pad_sequences"
   ]
  },
  {
   "cell_type": "markdown",
   "id": "5e1e0d1a",
   "metadata": {
    "papermill": {
     "duration": 0.013367,
     "end_time": "2021-12-20T18:29:18.495331",
     "exception": false,
     "start_time": "2021-12-20T18:29:18.481964",
     "status": "completed"
    },
    "tags": []
   },
   "source": []
  },
  {
   "cell_type": "markdown",
   "id": "00ca47ee",
   "metadata": {
    "papermill": {
     "duration": 0.012828,
     "end_time": "2021-12-20T18:29:18.521405",
     "exception": false,
     "start_time": "2021-12-20T18:29:18.508577",
     "status": "completed"
    },
    "tags": []
   },
   "source": [
    "# Preparing our Data\n",
    "First we read in the data and separate it by column"
   ]
  },
  {
   "cell_type": "code",
   "execution_count": 2,
   "id": "bc488a78",
   "metadata": {
    "execution": {
     "iopub.execute_input": "2021-12-20T18:29:18.552061Z",
     "iopub.status.busy": "2021-12-20T18:29:18.551373Z",
     "iopub.status.idle": "2021-12-20T18:29:20.199962Z",
     "shell.execute_reply": "2021-12-20T18:29:20.200504Z",
     "shell.execute_reply.started": "2021-12-20T17:16:29.840634Z"
    },
    "papermill": {
     "duration": 1.665911,
     "end_time": "2021-12-20T18:29:20.200731",
     "exception": false,
     "start_time": "2021-12-20T18:29:18.534820",
     "status": "completed"
    },
    "tags": []
   },
   "outputs": [],
   "source": [
    "imdb_data = pd.read_csv('../input/imdb-dataset/imdbdataset.csv')\n",
    "\n",
    "imdb_data.loc[imdb_data['sentiment'] == 'positive',  'sentiment'] = 1\n",
    "imdb_data.loc[imdb_data['sentiment'] == 'negative',  'sentiment'] = 0\n",
    "\n",
    "imdb_data.head()\n",
    "\n",
    "reviews, sentiments = imdb_data['review'], imdb_data['sentiment']"
   ]
  },
  {
   "cell_type": "markdown",
   "id": "966c5b55",
   "metadata": {
    "papermill": {
     "duration": 0.012979,
     "end_time": "2021-12-20T18:29:20.227080",
     "exception": false,
     "start_time": "2021-12-20T18:29:20.214101",
     "status": "completed"
    },
    "tags": []
   },
   "source": [
    "We now split our dataset into training, testing, and development sets."
   ]
  },
  {
   "cell_type": "code",
   "execution_count": 3,
   "id": "a5178286",
   "metadata": {
    "execution": {
     "iopub.execute_input": "2021-12-20T18:29:20.256899Z",
     "iopub.status.busy": "2021-12-20T18:29:20.256272Z",
     "iopub.status.idle": "2021-12-20T18:29:20.267711Z",
     "shell.execute_reply": "2021-12-20T18:29:20.268221Z"
    },
    "papermill": {
     "duration": 0.028169,
     "end_time": "2021-12-20T18:29:20.268408",
     "exception": false,
     "start_time": "2021-12-20T18:29:20.240239",
     "status": "completed"
    },
    "tags": []
   },
   "outputs": [],
   "source": [
    "train_reviews = np.array(reviews[0:30000])\n",
    "train_sentiments = np.array(sentiments[0:30000]).astype(np.int)\n",
    "test_reviews = np.array(reviews[30000:40000])\n",
    "test_sentiments = np.array(sentiments[30000:40000]).astype(np.int)\n",
    "dev_reviews = np.array(reviews[40000:50000])\n",
    "dev_sentiments = np.array(sentiments[40000:50000]).astype(np.int)"
   ]
  },
  {
   "cell_type": "markdown",
   "id": "d6243d69",
   "metadata": {
    "papermill": {
     "duration": 0.013235,
     "end_time": "2021-12-20T18:29:20.295289",
     "exception": false,
     "start_time": "2021-12-20T18:29:20.282054",
     "status": "completed"
    },
    "tags": []
   },
   "source": []
  },
  {
   "cell_type": "markdown",
   "id": "42d693d7",
   "metadata": {
    "papermill": {
     "duration": 0.013415,
     "end_time": "2021-12-20T18:29:20.322258",
     "exception": false,
     "start_time": "2021-12-20T18:29:20.308843",
     "status": "completed"
    },
    "tags": []
   },
   "source": []
  },
  {
   "cell_type": "markdown",
   "id": "70ed311b",
   "metadata": {
    "papermill": {
     "duration": 0.01327,
     "end_time": "2021-12-20T18:29:20.349321",
     "exception": false,
     "start_time": "2021-12-20T18:29:20.336051",
     "status": "completed"
    },
    "tags": []
   },
   "source": [
    "# Tokenization\n",
    "Tokenization happens here"
   ]
  },
  {
   "cell_type": "code",
   "execution_count": 4,
   "id": "fbbb6495",
   "metadata": {
    "execution": {
     "iopub.execute_input": "2021-12-20T18:29:20.382310Z",
     "iopub.status.busy": "2021-12-20T18:29:20.381331Z",
     "iopub.status.idle": "2021-12-20T18:29:20.384580Z",
     "shell.execute_reply": "2021-12-20T18:29:20.384080Z",
     "shell.execute_reply.started": "2021-12-20T17:16:31.686189Z"
    },
    "papermill": {
     "duration": 0.021788,
     "end_time": "2021-12-20T18:29:20.384773",
     "exception": false,
     "start_time": "2021-12-20T18:29:20.362985",
     "status": "completed"
    },
    "tags": []
   },
   "outputs": [],
   "source": [
    "# Parameters\n",
    "input_size = 1000\n",
    "output_size = 64\n",
    "max_length = 120\n",
    "truncation = 'post'\n",
    "token = \"<OOV>\""
   ]
  },
  {
   "cell_type": "code",
   "execution_count": 5,
   "id": "c43639ef",
   "metadata": {
    "execution": {
     "iopub.execute_input": "2021-12-20T18:29:20.425204Z",
     "iopub.status.busy": "2021-12-20T18:29:20.424411Z",
     "iopub.status.idle": "2021-12-20T18:29:34.151168Z",
     "shell.execute_reply": "2021-12-20T18:29:34.151772Z",
     "shell.execute_reply.started": "2021-12-20T17:16:31.692752Z"
    },
    "papermill": {
     "duration": 13.753879,
     "end_time": "2021-12-20T18:29:34.151960",
     "exception": false,
     "start_time": "2021-12-20T18:29:20.398081",
     "status": "completed"
    },
    "tags": []
   },
   "outputs": [],
   "source": [
    "tokenizer = Tokenizer(num_words = input_size, oov_token = token)\n",
    "tokenizer.fit_on_texts(train_reviews)\n",
    "word_index = tokenizer.word_index\n",
    "sequences = tokenizer.texts_to_sequences(train_reviews)\n",
    "testing_sequences = tokenizer.texts_to_sequences(test_reviews)"
   ]
  },
  {
   "cell_type": "markdown",
   "id": "db9d9ae5",
   "metadata": {
    "papermill": {
     "duration": 0.012901,
     "end_time": "2021-12-20T18:29:34.178250",
     "exception": false,
     "start_time": "2021-12-20T18:29:34.165349",
     "status": "completed"
    },
    "tags": []
   },
   "source": [
    "# Padding\n",
    "Padding happens here"
   ]
  },
  {
   "cell_type": "code",
   "execution_count": 6,
   "id": "8e11ad3f",
   "metadata": {
    "execution": {
     "iopub.execute_input": "2021-12-20T18:29:34.208692Z",
     "iopub.status.busy": "2021-12-20T18:29:34.207682Z",
     "iopub.status.idle": "2021-12-20T18:29:35.394401Z",
     "shell.execute_reply": "2021-12-20T18:29:35.395020Z"
    },
    "papermill": {
     "duration": 1.203694,
     "end_time": "2021-12-20T18:29:35.395228",
     "exception": false,
     "start_time": "2021-12-20T18:29:34.191534",
     "status": "completed"
    },
    "tags": []
   },
   "outputs": [],
   "source": [
    "padded = pad_sequences(sequences, maxlen = max_length, truncating = truncation)\n",
    "testing_padded = pad_sequences(testing_sequences, maxlen = max_length)"
   ]
  },
  {
   "cell_type": "markdown",
   "id": "f1c87497",
   "metadata": {
    "papermill": {
     "duration": 0.012996,
     "end_time": "2021-12-20T18:29:35.421850",
     "exception": false,
     "start_time": "2021-12-20T18:29:35.408854",
     "status": "completed"
    },
    "tags": []
   },
   "source": []
  },
  {
   "cell_type": "markdown",
   "id": "c7c250c7",
   "metadata": {
    "papermill": {
     "duration": 0.012955,
     "end_time": "2021-12-20T18:29:35.448178",
     "exception": false,
     "start_time": "2021-12-20T18:29:35.435223",
     "status": "completed"
    },
    "tags": []
   },
   "source": [
    "# Building the Model\n",
    "We build the Sequential model here"
   ]
  },
  {
   "cell_type": "code",
   "execution_count": 7,
   "id": "b655ba23",
   "metadata": {
    "execution": {
     "iopub.execute_input": "2021-12-20T18:29:35.477855Z",
     "iopub.status.busy": "2021-12-20T18:29:35.477212Z",
     "iopub.status.idle": "2021-12-20T18:29:35.685164Z",
     "shell.execute_reply": "2021-12-20T18:29:35.684552Z",
     "shell.execute_reply.started": "2021-12-20T17:16:43.396895Z"
    },
    "papermill": {
     "duration": 0.223822,
     "end_time": "2021-12-20T18:29:35.685303",
     "exception": false,
     "start_time": "2021-12-20T18:29:35.461481",
     "status": "completed"
    },
    "tags": []
   },
   "outputs": [
    {
     "name": "stderr",
     "output_type": "stream",
     "text": [
      "\n",
      "User settings:\n",
      "\n",
      "   KMP_AFFINITY=granularity=fine,verbose,compact,1,0\n",
      "   KMP_BLOCKTIME=0\n",
      "   KMP_DUPLICATE_LIB_OK=True\n",
      "   KMP_INIT_AT_FORK=FALSE\n",
      "   KMP_SETTINGS=1\n",
      "   KMP_WARNINGS=0\n",
      "\n",
      "Effective settings:\n",
      "\n",
      "   KMP_ABORT_DELAY=0\n",
      "   KMP_ADAPTIVE_LOCK_PROPS='1,1024'\n",
      "   KMP_ALIGN_ALLOC=64\n",
      "   KMP_ALL_THREADPRIVATE=128\n",
      "   KMP_ATOMIC_MODE=2\n",
      "   KMP_BLOCKTIME=0\n",
      "   KMP_CPUINFO_FILE: value is not defined\n",
      "   KMP_DETERMINISTIC_REDUCTION=false\n",
      "   KMP_DEVICE_THREAD_LIMIT=2147483647\n",
      "   KMP_DISP_NUM_BUFFERS=7\n",
      "   KMP_DUPLICATE_LIB_OK=true\n",
      "   KMP_ENABLE_TASK_THROTTLING=true\n",
      "   KMP_FORCE_REDUCTION: value is not defined\n",
      "   KMP_FOREIGN_THREADS_THREADPRIVATE=true\n",
      "   KMP_FORKJOIN_BARRIER='2,2'\n",
      "   KMP_FORKJOIN_BARRIER_PATTERN='hyper,hyper'\n",
      "   KMP_GTID_MODE=3\n",
      "   KMP_HANDLE_SIGNALS=false\n",
      "   KMP_HOT_TEAMS_MAX_LEVEL=1\n",
      "   KMP_HOT_TEAMS_MODE=0\n",
      "   KMP_INIT_AT_FORK=true\n",
      "   KMP_LIBRARY=throughput\n",
      "   KMP_LOCK_KIND=queuing\n",
      "   KMP_MALLOC_POOL_INCR=1M\n",
      "   KMP_NUM_LOCKS_IN_BLOCK=1\n",
      "   KMP_PLAIN_BARRIER='2,2'\n",
      "   KMP_PLAIN_BARRIER_PATTERN='hyper,hyper'\n",
      "   KMP_REDUCTION_BARRIER='1,1'\n",
      "   KMP_REDUCTION_BARRIER_PATTERN='hyper,hyper'\n",
      "   KMP_SCHEDULE='static,balanced;guided,iterative'\n",
      "   KMP_SETTINGS=true\n",
      "   KMP_SPIN_BACKOFF_PARAMS='4096,100'\n",
      "   KMP_STACKOFFSET=64\n",
      "   KMP_STACKPAD=0\n",
      "   KMP_STACKSIZE=8M\n",
      "   KMP_STORAGE_MAP=false\n",
      "   KMP_TASKING=2\n",
      "   KMP_TASKLOOP_MIN_TASKS=0\n",
      "   KMP_TASK_STEALING_CONSTRAINT=1\n",
      "   KMP_TEAMS_THREAD_LIMIT=4\n",
      "   KMP_TOPOLOGY_METHOD=all\n",
      "   KMP_USE_YIELD=1\n",
      "   KMP_VERSION=false\n",
      "   KMP_WARNINGS=false\n",
      "   OMP_AFFINITY_FORMAT='OMP: pid %P tid %i thread %n bound to OS proc set {%A}'\n",
      "   OMP_ALLOCATOR=omp_default_mem_alloc\n",
      "   OMP_CANCELLATION=false\n",
      "   OMP_DEFAULT_DEVICE=0\n",
      "   OMP_DISPLAY_AFFINITY=false\n",
      "   OMP_DISPLAY_ENV=false\n",
      "   OMP_DYNAMIC=false\n",
      "   OMP_MAX_ACTIVE_LEVELS=1\n",
      "   OMP_MAX_TASK_PRIORITY=0\n",
      "   OMP_NESTED: deprecated; max-active-levels-var=1\n",
      "   OMP_NUM_THREADS: value is not defined\n",
      "   OMP_PLACES: value is not defined\n",
      "   OMP_PROC_BIND='intel'\n",
      "   OMP_SCHEDULE='static'\n",
      "   OMP_STACKSIZE=8M\n",
      "   OMP_TARGET_OFFLOAD=DEFAULT\n",
      "   OMP_THREAD_LIMIT=2147483647\n",
      "   OMP_WAIT_POLICY=PASSIVE\n",
      "   KMP_AFFINITY='verbose,warnings,respect,granularity=fine,compact,1,0'\n",
      "\n",
      "2021-12-20 18:29:35.532221: I tensorflow/core/common_runtime/process_util.cc:146] Creating new thread pool with default inter op setting: 2. Tune using inter_op_parallelism_threads for best performance.\n"
     ]
    }
   ],
   "source": [
    "model = tf.keras.Sequential([\n",
    "\ttf.keras.layers.Embedding(input_size, output_size, input_length=max_length),\n",
    "\ttf.keras.layers.Flatten(),\n",
    "])\n",
    "\n",
    "in_size = 128\n",
    "\n",
    "while in_size > 7:\n",
    "    model.add(tf.keras.layers.Dense(in_size, activation='relu'))\n",
    "    model.add(tf.keras.layers.Dropout(0.1))\n",
    "    in_size = in_size / 2\n",
    "    \n",
    "model.add(tf.keras.layers.Dense(1, activation='relu'))"
   ]
  },
  {
   "cell_type": "code",
   "execution_count": 8,
   "id": "39f191fe",
   "metadata": {
    "execution": {
     "iopub.execute_input": "2021-12-20T18:29:35.727906Z",
     "iopub.status.busy": "2021-12-20T18:29:35.725370Z",
     "iopub.status.idle": "2021-12-20T18:29:35.739021Z",
     "shell.execute_reply": "2021-12-20T18:29:35.738419Z",
     "shell.execute_reply.started": "2021-12-20T17:16:43.579586Z"
    },
    "papermill": {
     "duration": 0.039324,
     "end_time": "2021-12-20T18:29:35.739163",
     "exception": false,
     "start_time": "2021-12-20T18:29:35.699839",
     "status": "completed"
    },
    "tags": []
   },
   "outputs": [
    {
     "name": "stdout",
     "output_type": "stream",
     "text": [
      "Model: \"sequential\"\n",
      "_________________________________________________________________\n",
      "Layer (type)                 Output Shape              Param #   \n",
      "=================================================================\n",
      "embedding (Embedding)        (None, 120, 64)           64000     \n",
      "_________________________________________________________________\n",
      "flatten (Flatten)            (None, 7680)              0         \n",
      "_________________________________________________________________\n",
      "dense (Dense)                (None, 128)               983168    \n",
      "_________________________________________________________________\n",
      "dropout (Dropout)            (None, 128)               0         \n",
      "_________________________________________________________________\n",
      "dense_1 (Dense)              (None, 64)                8256      \n",
      "_________________________________________________________________\n",
      "dropout_1 (Dropout)          (None, 64)                0         \n",
      "_________________________________________________________________\n",
      "dense_2 (Dense)              (None, 32)                2080      \n",
      "_________________________________________________________________\n",
      "dropout_2 (Dropout)          (None, 32)                0         \n",
      "_________________________________________________________________\n",
      "dense_3 (Dense)              (None, 16)                528       \n",
      "_________________________________________________________________\n",
      "dropout_3 (Dropout)          (None, 16)                0         \n",
      "_________________________________________________________________\n",
      "dense_4 (Dense)              (None, 8)                 136       \n",
      "_________________________________________________________________\n",
      "dropout_4 (Dropout)          (None, 8)                 0         \n",
      "_________________________________________________________________\n",
      "dense_5 (Dense)              (None, 1)                 9         \n",
      "=================================================================\n",
      "Total params: 1,058,177\n",
      "Trainable params: 1,058,177\n",
      "Non-trainable params: 0\n",
      "_________________________________________________________________\n"
     ]
    }
   ],
   "source": [
    "model.compile(loss='binary_crossentropy', optimizer='sgd', metrics=['accuracy'])\n",
    "model.summary()"
   ]
  },
  {
   "cell_type": "markdown",
   "id": "6627f9d5",
   "metadata": {
    "papermill": {
     "duration": 0.01382,
     "end_time": "2021-12-20T18:29:35.767427",
     "exception": false,
     "start_time": "2021-12-20T18:29:35.753607",
     "status": "completed"
    },
    "tags": []
   },
   "source": [
    "# Running the Model\n",
    "We run the model here"
   ]
  },
  {
   "cell_type": "code",
   "execution_count": 9,
   "id": "1b6484b6",
   "metadata": {
    "execution": {
     "iopub.execute_input": "2021-12-20T18:29:35.801274Z",
     "iopub.status.busy": "2021-12-20T18:29:35.800624Z",
     "iopub.status.idle": "2021-12-20T18:30:58.983871Z",
     "shell.execute_reply": "2021-12-20T18:30:58.984391Z",
     "shell.execute_reply.started": "2021-12-20T17:16:43.601673Z"
    },
    "papermill": {
     "duration": 83.202902,
     "end_time": "2021-12-20T18:30:58.984560",
     "exception": false,
     "start_time": "2021-12-20T18:29:35.781658",
     "status": "completed"
    },
    "tags": []
   },
   "outputs": [
    {
     "name": "stderr",
     "output_type": "stream",
     "text": [
      "2021-12-20 18:29:36.144280: I tensorflow/compiler/mlir/mlir_graph_optimization_pass.cc:185] None of the MLIR Optimization Passes are enabled (registered 2)\n"
     ]
    },
    {
     "name": "stdout",
     "output_type": "stream",
     "text": [
      "Epoch 1/10\n",
      "938/938 [==============================] - 10s 9ms/step - loss: 0.7009 - accuracy: 0.5030 - val_loss: 0.6932 - val_accuracy: 0.5062\n",
      "Epoch 2/10\n",
      "938/938 [==============================] - 8s 8ms/step - loss: 0.6920 - accuracy: 0.5206 - val_loss: 0.6910 - val_accuracy: 0.5292\n",
      "Epoch 3/10\n",
      "938/938 [==============================] - 8s 8ms/step - loss: 0.6890 - accuracy: 0.5400 - val_loss: 0.6873 - val_accuracy: 0.5513\n",
      "Epoch 4/10\n",
      "938/938 [==============================] - 8s 8ms/step - loss: 0.6804 - accuracy: 0.5639 - val_loss: 0.6892 - val_accuracy: 0.5387\n",
      "Epoch 5/10\n",
      "938/938 [==============================] - 8s 9ms/step - loss: 0.6576 - accuracy: 0.6122 - val_loss: 0.6391 - val_accuracy: 0.6407\n",
      "Epoch 6/10\n",
      "938/938 [==============================] - 8s 8ms/step - loss: 0.6140 - accuracy: 0.6707 - val_loss: 0.6066 - val_accuracy: 0.6765\n",
      "Epoch 7/10\n",
      "938/938 [==============================] - 7s 8ms/step - loss: 0.6540 - accuracy: 0.6198 - val_loss: 0.6916 - val_accuracy: 0.5425\n",
      "Epoch 8/10\n",
      "938/938 [==============================] - 8s 8ms/step - loss: 0.6883 - accuracy: 0.5403 - val_loss: 0.6827 - val_accuracy: 0.5756\n",
      "Epoch 9/10\n",
      "938/938 [==============================] - 8s 9ms/step - loss: 0.6160 - accuracy: 0.6715 - val_loss: 0.6940 - val_accuracy: 0.5022\n",
      "Epoch 10/10\n",
      "938/938 [==============================] - 8s 8ms/step - loss: 0.6698 - accuracy: 0.5954 - val_loss: 0.6056 - val_accuracy: 0.7058\n"
     ]
    },
    {
     "data": {
      "text/plain": [
       "<keras.callbacks.History at 0x7fc3c05b3290>"
      ]
     },
     "execution_count": 9,
     "metadata": {},
     "output_type": "execute_result"
    }
   ],
   "source": [
    "num_epochs = 10\n",
    "model.fit(padded,\n",
    "          train_sentiments,\n",
    "          epochs = num_epochs,\n",
    "          validation_data = (testing_padded, test_sentiments))"
   ]
  },
  {
   "cell_type": "markdown",
   "id": "1f850943",
   "metadata": {
    "papermill": {
     "duration": 0.414623,
     "end_time": "2021-12-20T18:30:59.809525",
     "exception": false,
     "start_time": "2021-12-20T18:30:59.394902",
     "status": "completed"
    },
    "tags": []
   },
   "source": [
    "# Results\n",
    "Here is what our results and findings tell us"
   ]
  }
 ],
 "metadata": {
  "kernelspec": {
   "display_name": "Python 3",
   "language": "python",
   "name": "python3"
  },
  "language_info": {
   "codemirror_mode": {
    "name": "ipython",
    "version": 3
   },
   "file_extension": ".py",
   "mimetype": "text/x-python",
   "name": "python",
   "nbconvert_exporter": "python",
   "pygments_lexer": "ipython3",
   "version": "3.7.12"
  },
  "papermill": {
   "default_parameters": {},
   "duration": 122.734036,
   "end_time": "2021-12-20T18:31:03.688136",
   "environment_variables": {},
   "exception": null,
   "input_path": "__notebook__.ipynb",
   "output_path": "__notebook__.ipynb",
   "parameters": {},
   "start_time": "2021-12-20T18:29:00.954100",
   "version": "2.3.3"
  }
 },
 "nbformat": 4,
 "nbformat_minor": 5
}
