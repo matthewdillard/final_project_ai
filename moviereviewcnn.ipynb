{
 "cells": [
  {
   "cell_type": "code",
   "execution_count": 1,
   "id": "e4cd46a4",
   "metadata": {
    "_cell_guid": "b1076dfc-b9ad-4769-8c92-a6c4dae69d19",
    "_uuid": "8f2839f25d086af736a60e9eeb907d3b93b6e0e5",
    "execution": {
     "iopub.execute_input": "2021-12-20T21:47:00.701084Z",
     "iopub.status.busy": "2021-12-20T21:47:00.700444Z",
     "iopub.status.idle": "2021-12-20T21:47:07.379468Z",
     "shell.execute_reply": "2021-12-20T21:47:07.378809Z",
     "shell.execute_reply.started": "2021-12-20T21:46:19.534747Z"
    },
    "jupyter": {
     "source_hidden": true
    },
    "papermill": {
     "duration": 6.705449,
     "end_time": "2021-12-20T21:47:07.379645",
     "exception": false,
     "start_time": "2021-12-20T21:47:00.674196",
     "status": "completed"
    },
    "tags": []
   },
   "outputs": [],
   "source": [
    "import tensorflow as tf\n",
    "from tensorflow.keras.preprocessing.text import Tokenizer\n",
    "import numpy as np # linear algebra\n",
    "import pandas as pd # data processing, CSV file I/O (e.g. pd.read_csv)\n",
    "from sklearn.linear_model import LinearRegression\n",
    "from tensorflow.keras.preprocessing.sequence import pad_sequences"
   ]
  },
  {
   "cell_type": "markdown",
   "id": "8fbc75b7",
   "metadata": {
    "papermill": {
     "duration": 0.013601,
     "end_time": "2021-12-20T21:47:07.409581",
     "exception": false,
     "start_time": "2021-12-20T21:47:07.395980",
     "status": "completed"
    },
    "tags": []
   },
   "source": [
    "# Preparing our Data\n",
    "First we read in the data and separate it into two lists, one for the reviews and one for the sentiments. We go through the sentiment column and assign integer values that correspond to the positive or negative nature of the review. This will be helpful later on when determining how positive or negative a review is for our model."
   ]
  },
  {
   "cell_type": "code",
   "execution_count": 2,
   "id": "bdf982ad",
   "metadata": {
    "execution": {
     "iopub.execute_input": "2021-12-20T21:47:07.443737Z",
     "iopub.status.busy": "2021-12-20T21:47:07.443088Z",
     "iopub.status.idle": "2021-12-20T21:47:08.887820Z",
     "shell.execute_reply": "2021-12-20T21:47:08.887107Z",
     "shell.execute_reply.started": "2021-12-20T21:46:22.221282Z"
    },
    "papermill": {
     "duration": 1.464462,
     "end_time": "2021-12-20T21:47:08.887979",
     "exception": false,
     "start_time": "2021-12-20T21:47:07.423517",
     "status": "completed"
    },
    "tags": []
   },
   "outputs": [],
   "source": [
    "imdb_data = pd.read_csv('../input/imdb-dataset-of-50k-movie-reviews/IMDB Dataset.csv')\n",
    "\n",
    "\n",
    "imdb_data.loc[imdb_data['sentiment'] == 'positive',  'sentiment'] = 1\n",
    "imdb_data.loc[imdb_data['sentiment'] == 'negative',  'sentiment'] = 0\n",
    "\n",
    "imdb_data.head()\n",
    "\n",
    "reviews, sentiments = imdb_data['review'], imdb_data['sentiment']"
   ]
  },
  {
   "cell_type": "markdown",
   "id": "d2bab4df",
   "metadata": {
    "papermill": {
     "duration": 0.013745,
     "end_time": "2021-12-20T21:47:08.915671",
     "exception": false,
     "start_time": "2021-12-20T21:47:08.901926",
     "status": "completed"
    },
    "tags": []
   },
   "source": [
    "Having broken up the data, we now split it into training and testing sets. We will train our model with 90% of our total data, and validate our model with the remaining 10%."
   ]
  },
  {
   "cell_type": "code",
   "execution_count": 3,
   "id": "63f1d904",
   "metadata": {
    "execution": {
     "iopub.execute_input": "2021-12-20T21:47:08.955063Z",
     "iopub.status.busy": "2021-12-20T21:47:08.950462Z",
     "iopub.status.idle": "2021-12-20T21:47:08.956922Z",
     "shell.execute_reply": "2021-12-20T21:47:08.957500Z",
     "shell.execute_reply.started": "2021-12-20T21:46:25.170899Z"
    },
    "papermill": {
     "duration": 0.028031,
     "end_time": "2021-12-20T21:47:08.957659",
     "exception": false,
     "start_time": "2021-12-20T21:47:08.929628",
     "status": "completed"
    },
    "tags": []
   },
   "outputs": [],
   "source": [
    "train_reviews = np.array(reviews[0:45000])\n",
    "train_sentiments = np.array(sentiments[0:45000]).astype(np.int)\n",
    "\n",
    "test_reviews = np.array(reviews[45000:50000])\n",
    "test_sentiments = np.array(sentiments[45000:50000]).astype(np.int)"
   ]
  },
  {
   "cell_type": "markdown",
   "id": "92a579e3",
   "metadata": {
    "papermill": {
     "duration": 0.013652,
     "end_time": "2021-12-20T21:47:08.985371",
     "exception": false,
     "start_time": "2021-12-20T21:47:08.971719",
     "status": "completed"
    },
    "tags": []
   },
   "source": [
    "## Tokenization\n",
    "Tokenization is important because..."
   ]
  },
  {
   "cell_type": "code",
   "execution_count": 4,
   "id": "18a0f3b0",
   "metadata": {
    "execution": {
     "iopub.execute_input": "2021-12-20T21:47:09.017081Z",
     "iopub.status.busy": "2021-12-20T21:47:09.016128Z",
     "iopub.status.idle": "2021-12-20T21:47:09.021267Z",
     "shell.execute_reply": "2021-12-20T21:47:09.020740Z",
     "shell.execute_reply.started": "2021-12-20T21:46:25.182926Z"
    },
    "papermill": {
     "duration": 0.022014,
     "end_time": "2021-12-20T21:47:09.021420",
     "exception": false,
     "start_time": "2021-12-20T21:47:08.999406",
     "status": "completed"
    },
    "tags": []
   },
   "outputs": [],
   "source": [
    "input_size = 1000\n",
    "output_size = 128\n",
    "max_length = 120\n",
    "truncation = 'post'\n",
    "token = \"<OOV>\""
   ]
  },
  {
   "cell_type": "markdown",
   "id": "80df9dba",
   "metadata": {
    "papermill": {
     "duration": 0.014057,
     "end_time": "2021-12-20T21:47:09.050087",
     "exception": false,
     "start_time": "2021-12-20T21:47:09.036030",
     "status": "completed"
    },
    "tags": []
   },
   "source": [
    "What's happening here is we are initializing our tokenizer, and create sequences that will correspond to each review. "
   ]
  },
  {
   "cell_type": "code",
   "execution_count": 5,
   "id": "4745bdc1",
   "metadata": {
    "execution": {
     "iopub.execute_input": "2021-12-20T21:47:09.112467Z",
     "iopub.status.busy": "2021-12-20T21:47:09.107995Z",
     "iopub.status.idle": "2021-12-20T21:47:27.450977Z",
     "shell.execute_reply": "2021-12-20T21:47:27.450387Z",
     "shell.execute_reply.started": "2021-12-20T21:46:25.195483Z"
    },
    "papermill": {
     "duration": 18.386898,
     "end_time": "2021-12-20T21:47:27.451136",
     "exception": false,
     "start_time": "2021-12-20T21:47:09.064238",
     "status": "completed"
    },
    "tags": []
   },
   "outputs": [],
   "source": [
    "tokenizer = Tokenizer(num_words = input_size, oov_token = token)\n",
    "tokenizer.fit_on_texts(train_reviews)\n",
    "word_index = tokenizer.word_index\n",
    "sequences = tokenizer.texts_to_sequences(train_reviews)\n",
    "testing_sequences = tokenizer.texts_to_sequences(test_reviews)"
   ]
  },
  {
   "cell_type": "markdown",
   "id": "97ce48a9",
   "metadata": {
    "papermill": {
     "duration": 0.013584,
     "end_time": "2021-12-20T21:47:27.478816",
     "exception": false,
     "start_time": "2021-12-20T21:47:27.465232",
     "status": "completed"
    },
    "tags": []
   },
   "source": [
    "## Padding\n",
    "We pad out input sequences here. This step in crucial in that it normalizes all of our varying input reviews to all have consistent length. "
   ]
  },
  {
   "cell_type": "code",
   "execution_count": 6,
   "id": "c82da379",
   "metadata": {
    "execution": {
     "iopub.execute_input": "2021-12-20T21:47:27.519944Z",
     "iopub.status.busy": "2021-12-20T21:47:27.509352Z",
     "iopub.status.idle": "2021-12-20T21:47:28.999967Z",
     "shell.execute_reply": "2021-12-20T21:47:28.999425Z",
     "shell.execute_reply.started": "2021-12-20T21:46:32.025785Z"
    },
    "papermill": {
     "duration": 1.5072,
     "end_time": "2021-12-20T21:47:29.000115",
     "exception": false,
     "start_time": "2021-12-20T21:47:27.492915",
     "status": "completed"
    },
    "tags": []
   },
   "outputs": [],
   "source": [
    "padded = pad_sequences(sequences, maxlen = max_length, truncating = truncation)\n",
    "testing_padded = pad_sequences(testing_sequences, maxlen = max_length)"
   ]
  },
  {
   "cell_type": "markdown",
   "id": "9c9b6e02",
   "metadata": {
    "papermill": {
     "duration": 0.013579,
     "end_time": "2021-12-20T21:47:29.027838",
     "exception": false,
     "start_time": "2021-12-20T21:47:29.014259",
     "status": "completed"
    },
    "tags": []
   },
   "source": [
    "# Building the Model\n",
    "We build the Sequential model here"
   ]
  },
  {
   "cell_type": "code",
   "execution_count": 7,
   "id": "7ff592e1",
   "metadata": {
    "execution": {
     "iopub.execute_input": "2021-12-20T21:47:29.062410Z",
     "iopub.status.busy": "2021-12-20T21:47:29.061709Z",
     "iopub.status.idle": "2021-12-20T21:47:29.522451Z",
     "shell.execute_reply": "2021-12-20T21:47:29.521938Z",
     "shell.execute_reply.started": "2021-12-20T21:46:32.027752Z"
    },
    "papermill": {
     "duration": 0.48095,
     "end_time": "2021-12-20T21:47:29.522597",
     "exception": false,
     "start_time": "2021-12-20T21:47:29.041647",
     "status": "completed"
    },
    "tags": []
   },
   "outputs": [
    {
     "name": "stderr",
     "output_type": "stream",
     "text": [
      "\n",
      "User settings:\n",
      "\n",
      "   KMP_AFFINITY=granularity=fine,verbose,compact,1,0\n",
      "   KMP_BLOCKTIME=0\n",
      "   KMP_DUPLICATE_LIB_OK=True\n",
      "   KMP_INIT_AT_FORK=FALSE\n",
      "   KMP_SETTINGS=1\n",
      "   KMP_WARNINGS=0\n",
      "\n",
      "Effective settings:\n",
      "\n",
      "   KMP_ABORT_DELAY=0\n",
      "   KMP_ADAPTIVE_LOCK_PROPS='1,1024'\n",
      "   KMP_ALIGN_ALLOC=64\n",
      "   KMP_ALL_THREADPRIVATE=128\n",
      "   KMP_ATOMIC_MODE=2\n",
      "   KMP_BLOCKTIME=0\n",
      "   KMP_CPUINFO_FILE: value is not defined\n",
      "   KMP_DETERMINISTIC_REDUCTION=false\n",
      "   KMP_DEVICE_THREAD_LIMIT=2147483647\n",
      "   KMP_DISP_NUM_BUFFERS=7\n",
      "   KMP_DUPLICATE_LIB_OK=true\n",
      "   KMP_ENABLE_TASK_THROTTLING=true\n",
      "   KMP_FORCE_REDUCTION: value is not defined\n",
      "   KMP_FOREIGN_THREADS_THREADPRIVATE=true\n",
      "   KMP_FORKJOIN_BARRIER='2,2'\n",
      "   KMP_FORKJOIN_BARRIER_PATTERN='hyper,hyper'\n",
      "   KMP_GTID_MODE=3\n",
      "   KMP_HANDLE_SIGNALS=false\n",
      "   KMP_HOT_TEAMS_MAX_LEVEL=1\n",
      "   KMP_HOT_TEAMS_MODE=0\n",
      "   KMP_INIT_AT_FORK=true\n",
      "   KMP_LIBRARY=throughput\n",
      "   KMP_LOCK_KIND=queuing\n",
      "   KMP_MALLOC_POOL_INCR=1M\n",
      "   KMP_NUM_LOCKS_IN_BLOCK=1\n",
      "   KMP_PLAIN_BARRIER='2,2'\n",
      "   KMP_PLAIN_BARRIER_PATTERN='hyper,hyper'\n",
      "   KMP_REDUCTION_BARRIER='1,1'\n",
      "   KMP_REDUCTION_BARRIER_PATTERN='hyper,hyper'\n",
      "   KMP_SCHEDULE='static,balanced;guided,iterative'\n",
      "   KMP_SETTINGS=true\n",
      "   KMP_SPIN_BACKOFF_PARAMS='4096,100'\n",
      "   KMP_STACKOFFSET=64\n",
      "   KMP_STACKPAD=0\n",
      "   KMP_STACKSIZE=8M\n",
      "   KMP_STORAGE_MAP=false\n",
      "   KMP_TASKING=2\n",
      "   KMP_TASKLOOP_MIN_TASKS=0\n",
      "   KMP_TASK_STEALING_CONSTRAINT=1\n",
      "   KMP_TEAMS_THREAD_LIMIT=4\n",
      "   KMP_TOPOLOGY_METHOD=all\n",
      "   KMP_USE_YIELD=1\n",
      "   KMP_VERSION=false\n",
      "   KMP_WARNINGS=false\n",
      "   OMP_AFFINITY_FORMAT='OMP: pid %P tid %i thread %n bound to OS proc set {%A}'\n",
      "   OMP_ALLOCATOR=omp_default_mem_alloc\n",
      "   OMP_CANCELLATION=false\n",
      "   OMP_DEFAULT_DEVICE=0\n",
      "   OMP_DISPLAY_AFFINITY=false\n",
      "   OMP_DISPLAY_ENV=false\n",
      "   OMP_DYNAMIC=false\n",
      "   OMP_MAX_ACTIVE_LEVELS=1\n",
      "   OMP_MAX_TASK_PRIORITY=0\n",
      "   OMP_NESTED: deprecated; max-active-levels-var=1\n",
      "   OMP_NUM_THREADS: value is not defined\n",
      "   OMP_PLACES: value is not defined\n",
      "   OMP_PROC_BIND='intel'\n",
      "   OMP_SCHEDULE='static'\n",
      "   OMP_STACKSIZE=8M\n",
      "   OMP_TARGET_OFFLOAD=DEFAULT\n",
      "   OMP_THREAD_LIMIT=2147483647\n",
      "   OMP_WAIT_POLICY=PASSIVE\n",
      "   KMP_AFFINITY='verbose,warnings,respect,granularity=fine,compact,1,0'\n",
      "\n",
      "2021-12-20 21:47:29.109601: I tensorflow/core/common_runtime/process_util.cc:146] Creating new thread pool with default inter op setting: 2. Tune using inter_op_parallelism_threads for best performance.\n"
     ]
    }
   ],
   "source": [
    "model = tf.keras.Sequential([\n",
    "\ttf.keras.layers.Embedding(input_size, output_size, input_length=max_length),\n",
    "\ttf.keras.layers.Flatten(),\n",
    "])\n",
    "\n",
    "in_size = 128\n",
    "\n",
    "while in_size > 7:\n",
    "    model.add(tf.keras.layers.Dense(in_size, activation='relu'))\n",
    "    model.add(tf.keras.layers.Dropout(0.1))\n",
    "    in_size = in_size / 2\n",
    "    \n",
    "model.add(tf.keras.layers.Dense(1, activation='relu'))"
   ]
  },
  {
   "cell_type": "markdown",
   "id": "8506d40d",
   "metadata": {
    "papermill": {
     "duration": 0.014557,
     "end_time": "2021-12-20T21:47:29.552406",
     "exception": false,
     "start_time": "2021-12-20T21:47:29.537849",
     "status": "completed"
    },
    "tags": []
   },
   "source": [
    "The loss and optimizer functions are set here. After some testing, we "
   ]
  },
  {
   "cell_type": "code",
   "execution_count": 8,
   "id": "2c64ac18",
   "metadata": {
    "execution": {
     "iopub.execute_input": "2021-12-20T21:47:29.588769Z",
     "iopub.status.busy": "2021-12-20T21:47:29.587724Z",
     "iopub.status.idle": "2021-12-20T21:47:29.605461Z",
     "shell.execute_reply": "2021-12-20T21:47:29.604910Z",
     "shell.execute_reply.started": "2021-12-20T21:46:32.029768Z"
    },
    "papermill": {
     "duration": 0.038335,
     "end_time": "2021-12-20T21:47:29.605598",
     "exception": false,
     "start_time": "2021-12-20T21:47:29.567263",
     "status": "completed"
    },
    "tags": []
   },
   "outputs": [
    {
     "name": "stdout",
     "output_type": "stream",
     "text": [
      "Model: \"sequential\"\n",
      "_________________________________________________________________\n",
      "Layer (type)                 Output Shape              Param #   \n",
      "=================================================================\n",
      "embedding (Embedding)        (None, 120, 128)          128000    \n",
      "_________________________________________________________________\n",
      "flatten (Flatten)            (None, 15360)             0         \n",
      "_________________________________________________________________\n",
      "dense (Dense)                (None, 128)               1966208   \n",
      "_________________________________________________________________\n",
      "dropout (Dropout)            (None, 128)               0         \n",
      "_________________________________________________________________\n",
      "dense_1 (Dense)              (None, 64)                8256      \n",
      "_________________________________________________________________\n",
      "dropout_1 (Dropout)          (None, 64)                0         \n",
      "_________________________________________________________________\n",
      "dense_2 (Dense)              (None, 32)                2080      \n",
      "_________________________________________________________________\n",
      "dropout_2 (Dropout)          (None, 32)                0         \n",
      "_________________________________________________________________\n",
      "dense_3 (Dense)              (None, 16)                528       \n",
      "_________________________________________________________________\n",
      "dropout_3 (Dropout)          (None, 16)                0         \n",
      "_________________________________________________________________\n",
      "dense_4 (Dense)              (None, 8)                 136       \n",
      "_________________________________________________________________\n",
      "dropout_4 (Dropout)          (None, 8)                 0         \n",
      "_________________________________________________________________\n",
      "dense_5 (Dense)              (None, 1)                 9         \n",
      "=================================================================\n",
      "Total params: 2,105,217\n",
      "Trainable params: 2,105,217\n",
      "Non-trainable params: 0\n",
      "_________________________________________________________________\n"
     ]
    }
   ],
   "source": [
    "model.compile(loss='binary_crossentropy', optimizer='RMSprop', metrics=['accuracy'])\n",
    "model.summary()"
   ]
  },
  {
   "cell_type": "markdown",
   "id": "ea5b866c",
   "metadata": {
    "papermill": {
     "duration": 0.014563,
     "end_time": "2021-12-20T21:47:29.635248",
     "exception": false,
     "start_time": "2021-12-20T21:47:29.620685",
     "status": "completed"
    },
    "tags": []
   },
   "source": [
    "We tested a number of different optimzers to determine which was the best option for our model. Here are the resulting accuracies and validation accuracies for each.\n",
    "1. RMSprop: 0.8777 accuracy, 0.7856 validation accuracy\n",
    "2. Adam: 0.7500 accuracy, 0.7578 validation accuracy\n",
    "3. SGD: 0.5005 accuracy, 0.4940 validation accuracy\n",
    "4. FTRL: 0.4993 accuracy, 0.5060 validation accuracy"
   ]
  },
  {
   "cell_type": "markdown",
   "id": "5c4c1cd6",
   "metadata": {
    "papermill": {
     "duration": 0.014414,
     "end_time": "2021-12-20T21:47:29.664615",
     "exception": false,
     "start_time": "2021-12-20T21:47:29.650201",
     "status": "completed"
    },
    "tags": []
   },
   "source": [
    "# Running the Model\n",
    "We run the model here"
   ]
  },
  {
   "cell_type": "code",
   "execution_count": 9,
   "id": "25806c01",
   "metadata": {
    "execution": {
     "iopub.execute_input": "2021-12-20T21:47:29.697757Z",
     "iopub.status.busy": "2021-12-20T21:47:29.697161Z",
     "iopub.status.idle": "2021-12-20T21:50:17.859142Z",
     "shell.execute_reply": "2021-12-20T21:50:17.858549Z",
     "shell.execute_reply.started": "2021-12-20T21:46:32.031298Z"
    },
    "papermill": {
     "duration": 168.179427,
     "end_time": "2021-12-20T21:50:17.859306",
     "exception": false,
     "start_time": "2021-12-20T21:47:29.679879",
     "status": "completed"
    },
    "tags": []
   },
   "outputs": [
    {
     "name": "stderr",
     "output_type": "stream",
     "text": [
      "2021-12-20 21:47:29.791793: I tensorflow/compiler/mlir/mlir_graph_optimization_pass.cc:185] None of the MLIR Optimization Passes are enabled (registered 2)\n"
     ]
    },
    {
     "name": "stdout",
     "output_type": "stream",
     "text": [
      "Epoch 1/8\n",
      "1407/1407 [==============================] - 22s 15ms/step - loss: 0.6672 - accuracy: 0.7212 - val_loss: 0.5111 - val_accuracy: 0.7980\n",
      "Epoch 2/8\n",
      "1407/1407 [==============================] - 21s 15ms/step - loss: 0.7742 - accuracy: 0.7891 - val_loss: 0.7218 - val_accuracy: 0.7882\n",
      "Epoch 3/8\n",
      "1407/1407 [==============================] - 21s 15ms/step - loss: 0.8363 - accuracy: 0.8152 - val_loss: 1.2109 - val_accuracy: 0.8108\n",
      "Epoch 4/8\n",
      "1407/1407 [==============================] - 20s 14ms/step - loss: 0.8890 - accuracy: 0.8393 - val_loss: 0.9972 - val_accuracy: 0.7984\n",
      "Epoch 5/8\n",
      "1407/1407 [==============================] - 21s 15ms/step - loss: 0.9689 - accuracy: 0.8577 - val_loss: 1.4562 - val_accuracy: 0.7664\n",
      "Epoch 6/8\n",
      "1407/1407 [==============================] - 21s 15ms/step - loss: 0.9136 - accuracy: 0.8782 - val_loss: 1.7825 - val_accuracy: 0.7994\n",
      "Epoch 7/8\n",
      "1407/1407 [==============================] - 20s 14ms/step - loss: 0.9192 - accuracy: 0.8950 - val_loss: 2.0719 - val_accuracy: 0.7926\n",
      "Epoch 8/8\n",
      "1407/1407 [==============================] - 21s 15ms/step - loss: 0.8202 - accuracy: 0.9043 - val_loss: 1.9046 - val_accuracy: 0.7886\n"
     ]
    },
    {
     "data": {
      "text/plain": [
       "<keras.callbacks.History at 0x7fd4d6b07a90>"
      ]
     },
     "execution_count": 9,
     "metadata": {},
     "output_type": "execute_result"
    }
   ],
   "source": [
    "num_epochs = 8\n",
    "model.fit(padded, train_sentiments, epochs = num_epochs, validation_data = (testing_padded, test_sentiments))"
   ]
  },
  {
   "cell_type": "code",
   "execution_count": 10,
   "id": "f4faa1eb",
   "metadata": {
    "execution": {
     "iopub.execute_input": "2021-12-20T21:50:19.674959Z",
     "iopub.status.busy": "2021-12-20T21:50:19.674324Z",
     "iopub.status.idle": "2021-12-20T21:50:20.232988Z",
     "shell.execute_reply": "2021-12-20T21:50:20.232104Z",
     "shell.execute_reply.started": "2021-12-20T21:46:32.032575Z"
    },
    "papermill": {
     "duration": 1.458004,
     "end_time": "2021-12-20T21:50:20.233168",
     "exception": false,
     "start_time": "2021-12-20T21:50:18.775164",
     "status": "completed"
    },
    "tags": []
   },
   "outputs": [
    {
     "name": "stdout",
     "output_type": "stream",
     "text": [
      "157/157 [==============================] - 1s 3ms/step - loss: 1.9046 - accuracy: 0.7886\n"
     ]
    }
   ],
   "source": [
    "test_loss, test_acurracy = model.evaluate(testing_padded, test_sentiments)"
   ]
  },
  {
   "cell_type": "code",
   "execution_count": 11,
   "id": "65d3a9ee",
   "metadata": {
    "execution": {
     "iopub.execute_input": "2021-12-20T21:50:22.030268Z",
     "iopub.status.busy": "2021-12-20T21:50:22.029606Z",
     "iopub.status.idle": "2021-12-20T21:50:22.033550Z",
     "shell.execute_reply": "2021-12-20T21:50:22.034142Z",
     "shell.execute_reply.started": "2021-12-20T21:46:32.034572Z"
    },
    "papermill": {
     "duration": 0.908332,
     "end_time": "2021-12-20T21:50:22.034299",
     "exception": false,
     "start_time": "2021-12-20T21:50:21.125967",
     "status": "completed"
    },
    "tags": []
   },
   "outputs": [
    {
     "data": {
      "text/plain": [
       "0.7886000275611877"
      ]
     },
     "execution_count": 11,
     "metadata": {},
     "output_type": "execute_result"
    }
   ],
   "source": [
    "test_acurracy"
   ]
  }
 ],
 "metadata": {
  "kernelspec": {
   "display_name": "Python 3",
   "language": "python",
   "name": "python3"
  },
  "language_info": {
   "codemirror_mode": {
    "name": "ipython",
    "version": 3
   },
   "file_extension": ".py",
   "mimetype": "text/x-python",
   "name": "python",
   "nbconvert_exporter": "python",
   "pygments_lexer": "ipython3",
   "version": "3.7.12"
  },
  "papermill": {
   "default_parameters": {},
   "duration": 214.761395,
   "end_time": "2021-12-20T21:50:25.877998",
   "environment_variables": {},
   "exception": null,
   "input_path": "__notebook__.ipynb",
   "output_path": "__notebook__.ipynb",
   "parameters": {},
   "start_time": "2021-12-20T21:46:51.116603",
   "version": "2.3.3"
  }
 },
 "nbformat": 4,
 "nbformat_minor": 5
}
